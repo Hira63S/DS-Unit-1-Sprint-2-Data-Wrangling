{
  "nbformat": 4,
  "nbformat_minor": 0,
  "metadata": {
    "colab": {
      "name": "Hira LS_DS3_124_Make_features_LIVE_LESSON.ipynb",
      "version": "0.3.2",
      "provenance": [],
      "collapsed_sections": [],
      "include_colab_link": true
    },
    "kernelspec": {
      "display_name": "Python 3",
      "language": "python",
      "name": "python3"
    }
  },
  "cells": [
    {
      "cell_type": "markdown",
      "metadata": {
        "id": "view-in-github",
        "colab_type": "text"
      },
      "source": [
        "<a href=\"https://colab.research.google.com/github/Hira63S/DS-Unit-1-Sprint-2-Data-Wrangling/blob/master/Hira_LS_DS3_124_Make_features_LIVE_LESSON.ipynb\" target=\"_parent\"><img src=\"https://colab.research.google.com/assets/colab-badge.svg\" alt=\"Open In Colab\"/></a>"
      ]
    },
    {
      "metadata": {
        "colab_type": "text",
        "id": "qacqiXogluN_"
      },
      "cell_type": "markdown",
      "source": [
        "_Lambda School Data Science_\n",
        "\n",
        "# Make features\n",
        "\n",
        "Objectives\n",
        "-  understand the purpose of feature engineering\n",
        "-  work with strings in pandas\n",
        "- work with dates and times in pandas\n",
        "\n",
        "Links\n",
        "- [Feature Engineering](https://en.wikipedia.org/wiki/Feature_engineering)\n",
        "- Python Data Science Handbook\n",
        "  - [Chapter 3.10](https://jakevdp.github.io/PythonDataScienceHandbook/03.10-working-with-strings.html), Vectorized String Operations\n",
        "  - [Chapter 3.11](https://jakevdp.github.io/PythonDataScienceHandbook/03.11-working-with-time-series.html), Working with Time Series"
      ]
    },
    {
      "metadata": {
        "id": "WZr5m9lOCw_Q",
        "colab_type": "text"
      },
      "cell_type": "markdown",
      "source": [
        "Supervised speech learning:\n",
        "engineering features so that you can represent your data in a different way.\n",
        "\n",
        "we will have a messy column with a employees data. Is there a fairness isssue when the employee is male or female and that has a connection with the % rate charge adn if the loan is going to be repaid.\n",
        "\n",
        "- ability to extract info or enigneer new features.\n",
        "\n",
        "- very useful for machine learning and analyzing data and visualizing it.\n",
        "\n"
      ]
    },
    {
      "metadata": {
        "colab_type": "text",
        "id": "iSGiSktAoWIx"
      },
      "cell_type": "markdown",
      "source": [
        "## Get LendingClub data\n",
        "\n",
        "[Source](https://www.lendingclub.com/info/download-data.action)"
      ]
    },
    {
      "metadata": {
        "colab_type": "code",
        "id": "2ugxlWXimoHn",
        "colab": {
          "base_uri": "https://localhost:8080/",
          "height": 202
        },
        "outputId": "0756d2f1-ea9b-46df-a1e2-ea4590a8c74c"
      },
      "cell_type": "code",
      "source": [
        "!wget https://resources.lendingclub.com/LoanStats_2018Q4.csv.zip"
      ],
      "execution_count": 1,
      "outputs": [
        {
          "output_type": "stream",
          "text": [
            "--2019-03-28 22:16:47--  https://resources.lendingclub.com/LoanStats_2018Q4.csv.zip\n",
            "Resolving resources.lendingclub.com (resources.lendingclub.com)... 64.48.1.20\n",
            "Connecting to resources.lendingclub.com (resources.lendingclub.com)|64.48.1.20|:443... connected.\n",
            "HTTP request sent, awaiting response... 200 OK\n",
            "Length: unspecified [application/zip]\n",
            "Saving to: ‘LoanStats_2018Q4.csv.zip.1’\n",
            "\n",
            "LoanStats_2018Q4.cs     [              <=>   ]  21.29M   887KB/s    in 25s     \n",
            "\n",
            "2019-03-28 22:17:12 (878 KB/s) - ‘LoanStats_2018Q4.csv.zip.1’ saved [22329081]\n",
            "\n"
          ],
          "name": "stdout"
        }
      ]
    },
    {
      "metadata": {
        "colab_type": "code",
        "id": "-4sk6qPgmpmN",
        "colab": {
          "base_uri": "https://localhost:8080/",
          "height": 67
        },
        "outputId": "2322cfaf-9844-4f26-9f54-0e537dbb305c"
      },
      "cell_type": "code",
      "source": [
        "!unzip LoanStats_2018Q4.csv.zip"
      ],
      "execution_count": 2,
      "outputs": [
        {
          "output_type": "stream",
          "text": [
            "Archive:  LoanStats_2018Q4.csv.zip\n",
            "replace LoanStats_2018Q4.csv? [y]es, [n]o, [A]ll, [N]one, [r]ename: y\n",
            "  inflating: LoanStats_2018Q4.csv    \n"
          ],
          "name": "stdout"
        }
      ]
    },
    {
      "metadata": {
        "colab_type": "code",
        "id": "seh5oNE1nD0X",
        "colab": {
          "base_uri": "https://localhost:8080/",
          "height": 205
        },
        "outputId": "149ff56e-c0cc-4fd4-e712-a157e4e11b3a"
      },
      "cell_type": "code",
      "source": [
        "!head LoanStats_2018Q4.csv"
      ],
      "execution_count": 3,
      "outputs": [
        {
          "output_type": "stream",
          "text": [
            "Notes offered by Prospectus (https://www.lendingclub.com/info/prospectus.action)\n",
            "\"id\",\"member_id\",\"loan_amnt\",\"funded_amnt\",\"funded_amnt_inv\",\"term\",\"int_rate\",\"installment\",\"grade\",\"sub_grade\",\"emp_title\",\"emp_length\",\"home_ownership\",\"annual_inc\",\"verification_status\",\"issue_d\",\"loan_status\",\"pymnt_plan\",\"url\",\"desc\",\"purpose\",\"title\",\"zip_code\",\"addr_state\",\"dti\",\"delinq_2yrs\",\"earliest_cr_line\",\"inq_last_6mths\",\"mths_since_last_delinq\",\"mths_since_last_record\",\"open_acc\",\"pub_rec\",\"revol_bal\",\"revol_util\",\"total_acc\",\"initial_list_status\",\"out_prncp\",\"out_prncp_inv\",\"total_pymnt\",\"total_pymnt_inv\",\"total_rec_prncp\",\"total_rec_int\",\"total_rec_late_fee\",\"recoveries\",\"collection_recovery_fee\",\"last_pymnt_d\",\"last_pymnt_amnt\",\"next_pymnt_d\",\"last_credit_pull_d\",\"collections_12_mths_ex_med\",\"mths_since_last_major_derog\",\"policy_code\",\"application_type\",\"annual_inc_joint\",\"dti_joint\",\"verification_status_joint\",\"acc_now_delinq\",\"tot_coll_amt\",\"tot_cur_bal\",\"open_acc_6m\",\"open_act_il\",\"open_il_12m\",\"open_il_24m\",\"mths_since_rcnt_il\",\"total_bal_il\",\"il_util\",\"open_rv_12m\",\"open_rv_24m\",\"max_bal_bc\",\"all_util\",\"total_rev_hi_lim\",\"inq_fi\",\"total_cu_tl\",\"inq_last_12m\",\"acc_open_past_24mths\",\"avg_cur_bal\",\"bc_open_to_buy\",\"bc_util\",\"chargeoff_within_12_mths\",\"delinq_amnt\",\"mo_sin_old_il_acct\",\"mo_sin_old_rev_tl_op\",\"mo_sin_rcnt_rev_tl_op\",\"mo_sin_rcnt_tl\",\"mort_acc\",\"mths_since_recent_bc\",\"mths_since_recent_bc_dlq\",\"mths_since_recent_inq\",\"mths_since_recent_revol_delinq\",\"num_accts_ever_120_pd\",\"num_actv_bc_tl\",\"num_actv_rev_tl\",\"num_bc_sats\",\"num_bc_tl\",\"num_il_tl\",\"num_op_rev_tl\",\"num_rev_accts\",\"num_rev_tl_bal_gt_0\",\"num_sats\",\"num_tl_120dpd_2m\",\"num_tl_30dpd\",\"num_tl_90g_dpd_24m\",\"num_tl_op_past_12m\",\"pct_tl_nvr_dlq\",\"percent_bc_gt_75\",\"pub_rec_bankruptcies\",\"tax_liens\",\"tot_hi_cred_lim\",\"total_bal_ex_mort\",\"total_bc_limit\",\"total_il_high_credit_limit\",\"revol_bal_joint\",\"sec_app_earliest_cr_line\",\"sec_app_inq_last_6mths\",\"sec_app_mort_acc\",\"sec_app_open_acc\",\"sec_app_revol_util\",\"sec_app_open_act_il\",\"sec_app_num_rev_accts\",\"sec_app_chargeoff_within_12_mths\",\"sec_app_collections_12_mths_ex_med\",\"sec_app_mths_since_last_major_derog\",\"hardship_flag\",\"hardship_type\",\"hardship_reason\",\"hardship_status\",\"deferral_term\",\"hardship_amount\",\"hardship_start_date\",\"hardship_end_date\",\"payment_plan_start_date\",\"hardship_length\",\"hardship_dpd\",\"hardship_loan_status\",\"orig_projected_additional_accrued_interest\",\"hardship_payoff_balance_amount\",\"hardship_last_payment_amount\",\"disbursement_method\",\"debt_settlement_flag\",\"debt_settlement_flag_date\",\"settlement_status\",\"settlement_date\",\"settlement_amount\",\"settlement_percentage\",\"settlement_term\"\n",
            "\"\",\"\",\"2500\",\"2500\",\"2500\",\" 36 months\",\" 13.56%\",\"84.92\",\"C\",\"C1\",\"Chef\",\"10+ years\",\"RENT\",\"55000\",\"Not Verified\",\"Dec-2018\",\"Current\",\"n\",\"\",\"\",\"debt_consolidation\",\"Debt consolidation\",\"109xx\",\"NY\",\"18.24\",\"0\",\"Apr-2001\",\"1\",\"\",\"45\",\"9\",\"1\",\"4341\",\"10.3%\",\"34\",\"w\",\"2386.02\",\"2386.02\",\"167.02\",\"167.02\",\"113.98\",\"53.04\",\"0.0\",\"0.0\",\"0.0\",\"Feb-2019\",\"84.92\",\"Mar-2019\",\"Feb-2019\",\"0\",\"\",\"1\",\"Individual\",\"\",\"\",\"\",\"0\",\"0\",\"16901\",\"2\",\"2\",\"1\",\"2\",\"2\",\"12560\",\"69\",\"2\",\"7\",\"2137\",\"28\",\"42000\",\"1\",\"11\",\"2\",\"9\",\"1878\",\"34360\",\"5.9\",\"0\",\"0\",\"140\",\"212\",\"1\",\"1\",\"0\",\"1\",\"\",\"2\",\"\",\"0\",\"2\",\"5\",\"3\",\"3\",\"16\",\"7\",\"18\",\"5\",\"9\",\"0\",\"0\",\"0\",\"3\",\"100\",\"0\",\"1\",\"0\",\"60124\",\"16901\",\"36500\",\"18124\",\"\",\"\",\"\",\"\",\"\",\"\",\"\",\"\",\"\",\"\",\"\",\"N\",\"\",\"\",\"\",\"\",\"\",\"\",\"\",\"\",\"\",\"\",\"\",\"\",\"\",\"\",\"Cash\",\"N\",\"\",\"\",\"\",\"\",\"\",\"\"\n",
            "\"\",\"\",\"30000\",\"30000\",\"30000\",\" 60 months\",\" 18.94%\",\"777.23\",\"D\",\"D2\",\"Postmaster \",\"10+ years\",\"MORTGAGE\",\"90000\",\"Source Verified\",\"Dec-2018\",\"Current\",\"n\",\"\",\"\",\"debt_consolidation\",\"Debt consolidation\",\"713xx\",\"LA\",\"26.52\",\"0\",\"Jun-1987\",\"0\",\"71\",\"75\",\"13\",\"1\",\"12315\",\"24.2%\",\"44\",\"w\",\"29387.75\",\"29387.75\",\"1507.11\",\"1507.11\",\"612.25\",\"894.86\",\"0.0\",\"0.0\",\"0.0\",\"Feb-2019\",\"777.23\",\"Mar-2019\",\"Feb-2019\",\"0\",\"\",\"1\",\"Individual\",\"\",\"\",\"\",\"0\",\"1208\",\"321915\",\"4\",\"4\",\"2\",\"3\",\"3\",\"87153\",\"88\",\"4\",\"5\",\"998\",\"57\",\"50800\",\"2\",\"15\",\"2\",\"10\",\"24763\",\"13761\",\"8.3\",\"0\",\"0\",\"163\",\"378\",\"4\",\"3\",\"3\",\"4\",\"\",\"4\",\"\",\"0\",\"2\",\"4\",\"4\",\"9\",\"27\",\"8\",\"14\",\"4\",\"13\",\"0\",\"0\",\"0\",\"6\",\"95\",\"0\",\"1\",\"0\",\"372872\",\"99468\",\"15000\",\"94072\",\"\",\"\",\"\",\"\",\"\",\"\",\"\",\"\",\"\",\"\",\"\",\"N\",\"\",\"\",\"\",\"\",\"\",\"\",\"\",\"\",\"\",\"\",\"\",\"\",\"\",\"\",\"Cash\",\"N\",\"\",\"\",\"\",\"\",\"\",\"\"\n",
            "\"\",\"\",\"5000\",\"5000\",\"5000\",\" 36 months\",\" 17.97%\",\"180.69\",\"D\",\"D1\",\"Administrative\",\"6 years\",\"MORTGAGE\",\"59280\",\"Source Verified\",\"Dec-2018\",\"Current\",\"n\",\"\",\"\",\"debt_consolidation\",\"Debt consolidation\",\"490xx\",\"MI\",\"10.51\",\"0\",\"Apr-2011\",\"0\",\"\",\"\",\"8\",\"0\",\"4599\",\"19.1%\",\"13\",\"w\",\"4787.21\",\"4787.21\",\"353.89\",\"353.89\",\"212.79\",\"141.10\",\"0.0\",\"0.0\",\"0.0\",\"Feb-2019\",\"180.69\",\"Mar-2019\",\"Feb-2019\",\"0\",\"\",\"1\",\"Individual\",\"\",\"\",\"\",\"0\",\"0\",\"110299\",\"0\",\"1\",\"0\",\"2\",\"14\",\"7150\",\"72\",\"0\",\"2\",\"0\",\"35\",\"24100\",\"1\",\"5\",\"0\",\"4\",\"18383\",\"13800\",\"0\",\"0\",\"0\",\"87\",\"92\",\"15\",\"14\",\"2\",\"77\",\"\",\"14\",\"\",\"0\",\"0\",\"3\",\"3\",\"3\",\"4\",\"6\",\"7\",\"3\",\"8\",\"0\",\"0\",\"0\",\"0\",\"100\",\"0\",\"0\",\"0\",\"136927\",\"11749\",\"13800\",\"10000\",\"\",\"\",\"\",\"\",\"\",\"\",\"\",\"\",\"\",\"\",\"\",\"N\",\"\",\"\",\"\",\"\",\"\",\"\",\"\",\"\",\"\",\"\",\"\",\"\",\"\",\"\",\"Cash\",\"N\",\"\",\"\",\"\",\"\",\"\",\"\"\n",
            "\"\",\"\",\"4000\",\"4000\",\"4000\",\" 36 months\",\" 18.94%\",\"146.51\",\"D\",\"D2\",\"IT Supervisor\",\"10+ years\",\"MORTGAGE\",\"92000\",\"Source Verified\",\"Dec-2018\",\"Current\",\"n\",\"\",\"\",\"debt_consolidation\",\"Debt consolidation\",\"985xx\",\"WA\",\"16.74\",\"0\",\"Feb-2006\",\"0\",\"\",\"\",\"10\",\"0\",\"5468\",\"78.1%\",\"13\",\"w\",\"3831.93\",\"3831.93\",\"286.71\",\"286.71\",\"168.07\",\"118.64\",\"0.0\",\"0.0\",\"0.0\",\"Feb-2019\",\"146.51\",\"Mar-2019\",\"Feb-2019\",\"0\",\"\",\"1\",\"Individual\",\"\",\"\",\"\",\"0\",\"686\",\"305049\",\"1\",\"5\",\"3\",\"5\",\"5\",\"30683\",\"68\",\"0\",\"0\",\"3761\",\"70\",\"7000\",\"2\",\"4\",\"3\",\"5\",\"30505\",\"1239\",\"75.2\",\"0\",\"0\",\"62\",\"154\",\"64\",\"5\",\"3\",\"64\",\"\",\"5\",\"\",\"0\",\"1\",\"2\",\"1\",\"2\",\"7\",\"2\",\"3\",\"2\",\"10\",\"0\",\"0\",\"0\",\"3\",\"100\",\"100\",\"0\",\"0\",\"385183\",\"36151\",\"5000\",\"44984\",\"\",\"\",\"\",\"\",\"\",\"\",\"\",\"\",\"\",\"\",\"\",\"N\",\"\",\"\",\"\",\"\",\"\",\"\",\"\",\"\",\"\",\"\",\"\",\"\",\"\",\"\",\"Cash\",\"N\",\"\",\"\",\"\",\"\",\"\",\"\"\n",
            "\"\",\"\",\"30000\",\"30000\",\"30000\",\" 60 months\",\" 16.14%\",\"731.78\",\"C\",\"C4\",\"Mechanic\",\"10+ years\",\"MORTGAGE\",\"57250\",\"Not Verified\",\"Dec-2018\",\"Current\",\"n\",\"\",\"\",\"debt_consolidation\",\"Debt consolidation\",\"212xx\",\"MD\",\"26.35\",\"0\",\"Dec-2000\",\"0\",\"\",\"\",\"12\",\"0\",\"829\",\"3.6%\",\"26\",\"w\",\"29339.02\",\"29339.02\",\"1423.21\",\"1423.21\",\"660.98\",\"762.23\",\"0.0\",\"0.0\",\"0.0\",\"Feb-2019\",\"731.78\",\"Mar-2019\",\"Feb-2019\",\"0\",\"\",\"1\",\"Individual\",\"\",\"\",\"\",\"0\",\"0\",\"116007\",\"3\",\"5\",\"3\",\"5\",\"4\",\"28845\",\"89\",\"2\",\"4\",\"516\",\"54\",\"23100\",\"1\",\"0\",\"0\",\"9\",\"9667\",\"8471\",\"8.9\",\"0\",\"0\",\"53\",\"216\",\"2\",\"2\",\"2\",\"2\",\"\",\"13\",\"\",\"0\",\"2\",\"2\",\"3\",\"8\",\"9\",\"6\",\"15\",\"2\",\"12\",\"0\",\"0\",\"0\",\"5\",\"92.3\",\"0\",\"0\",\"0\",\"157548\",\"29674\",\"9300\",\"32332\",\"\",\"\",\"\",\"\",\"\",\"\",\"\",\"\",\"\",\"\",\"\",\"N\",\"\",\"\",\"\",\"\",\"\",\"\",\"\",\"\",\"\",\"\",\"\",\"\",\"\",\"\",\"Cash\",\"N\",\"\",\"\",\"\",\"\",\"\",\"\"\n",
            "\"\",\"\",\"5550\",\"5550\",\"5550\",\" 36 months\",\" 15.02%\",\"192.45\",\"C\",\"C3\",\"Director COE\",\"10+ years\",\"MORTGAGE\",\"152500\",\"Not Verified\",\"Dec-2018\",\"Current\",\"n\",\"\",\"\",\"credit_card\",\"Credit card refinancing\",\"461xx\",\"IN\",\"37.94\",\"0\",\"Sep-2002\",\"3\",\"\",\"\",\"18\",\"0\",\"53854\",\"48.1%\",\"44\",\"w\",\"5302.50\",\"5302.50\",\"377.95\",\"377.95\",\"247.50\",\"130.45\",\"0.0\",\"0.0\",\"0.0\",\"Feb-2019\",\"192.45\",\"Mar-2019\",\"Feb-2019\",\"0\",\"\",\"1\",\"Individual\",\"\",\"\",\"\",\"0\",\"0\",\"685749\",\"1\",\"7\",\"2\",\"3\",\"4\",\"131524\",\"72\",\"1\",\"4\",\"17584\",\"58\",\"111900\",\"2\",\"4\",\"6\",\"8\",\"40338\",\"23746\",\"64\",\"0\",\"0\",\"195\",\"176\",\"10\",\"4\",\"6\",\"20\",\"\",\"3\",\"\",\"0\",\"4\",\"6\",\"6\",\"10\",\"23\",\"9\",\"15\",\"7\",\"18\",\"0\",\"0\",\"0\",\"4\",\"100\",\"60\",\"0\",\"0\",\"831687\",\"185378\",\"65900\",\"203159\",\"\",\"\",\"\",\"\",\"\",\"\",\"\",\"\",\"\",\"\",\"\",\"N\",\"\",\"\",\"\",\"\",\"\",\"\",\"\",\"\",\"\",\"\",\"\",\"\",\"\",\"\",\"Cash\",\"N\",\"\",\"\",\"\",\"\",\"\",\"\"\n",
            "\"\",\"\",\"2000\",\"2000\",\"2000\",\" 36 months\",\" 17.97%\",\"72.28\",\"D\",\"D1\",\"Account Manager\",\"4 years\",\"RENT\",\"51000\",\"Source Verified\",\"Dec-2018\",\"Current\",\"n\",\"\",\"\",\"debt_consolidation\",\"Debt consolidation\",\"606xx\",\"IL\",\"2.4\",\"0\",\"Nov-2004\",\"1\",\"\",\"\",\"1\",\"0\",\"0\",\"\",\"9\",\"w\",\"1914.71\",\"1914.71\",\"141.56\",\"141.56\",\"85.29\",\"56.27\",\"0.0\",\"0.0\",\"0.0\",\"Feb-2019\",\"72.28\",\"Mar-2019\",\"Feb-2019\",\"0\",\"\",\"1\",\"Individual\",\"\",\"\",\"\",\"0\",\"0\",\"854\",\"0\",\"0\",\"2\",\"3\",\"7\",\"0\",\"\",\"0\",\"1\",\"0\",\"100\",\"0\",\"0\",\"0\",\"1\",\"4\",\"854\",\"\",\"\",\"0\",\"0\",\"169\",\"40\",\"23\",\"7\",\"0\",\"\",\"\",\"1\",\"\",\"0\",\"0\",\"0\",\"0\",\"3\",\"5\",\"0\",\"3\",\"0\",\"1\",\"0\",\"0\",\"0\",\"2\",\"100\",\"\",\"0\",\"0\",\"854\",\"854\",\"0\",\"0\",\"\",\"\",\"\",\"\",\"\",\"\",\"\",\"\",\"\",\"\",\"\",\"N\",\"\",\"\",\"\",\"\",\"\",\"\",\"\",\"\",\"\",\"\",\"\",\"\",\"\",\"\",\"Cash\",\"N\",\"\",\"\",\"\",\"\",\"\",\"\"\n",
            "\"\",\"\",\"6000\",\"6000\",\"6000\",\" 36 months\",\" 13.56%\",\"203.79\",\"C\",\"C1\",\"Assistant Director\",\"10+ years\",\"RENT\",\"65000\",\"Source Verified\",\"Dec-2018\",\"Current\",\"n\",\"\",\"\",\"credit_card\",\"Credit card refinancing\",\"460xx\",\"IN\",\"30.1\",\"0\",\"Nov-1997\",\"0\",\"\",\"\",\"19\",\"0\",\"38476\",\"69.3%\",\"37\",\"w\",\"5864.01\",\"5864.01\",\"201.53\",\"201.53\",\"135.99\",\"65.54\",\"0.0\",\"0.0\",\"0.0\",\"Feb-2019\",\"208.31\",\"Mar-2019\",\"Feb-2019\",\"0\",\"\",\"1\",\"Individual\",\"\",\"\",\"\",\"0\",\"0\",\"91535\",\"0\",\"5\",\"0\",\"1\",\"23\",\"53059\",\"87\",\"0\",\"2\",\"9413\",\"74\",\"55500\",\"1\",\"2\",\"0\",\"3\",\"5085\",\"3034\",\"90.8\",\"0\",\"0\",\"169\",\"253\",\"13\",\"13\",\"1\",\"14\",\"\",\"13\",\"\",\"0\",\"7\",\"12\",\"8\",\"10\",\"15\",\"14\",\"20\",\"12\",\"19\",\"0\",\"0\",\"0\",\"0\",\"100\",\"85.7\",\"0\",\"0\",\"117242\",\"91535\",\"33100\",\"61742\",\"\",\"\",\"\",\"\",\"\",\"\",\"\",\"\",\"\",\"\",\"\",\"N\",\"\",\"\",\"\",\"\",\"\",\"\",\"\",\"\",\"\",\"\",\"\",\"\",\"\",\"\",\"DirectPay\",\"N\",\"\",\"\",\"\",\"\",\"\",\"\"\n"
          ],
          "name": "stdout"
        }
      ]
    },
    {
      "metadata": {
        "colab_type": "text",
        "id": "3nAIRCZdofrY"
      },
      "cell_type": "markdown",
      "source": [
        "## Load LendingClub data\n",
        "\n",
        "pandas documentation\n",
        "- [`read_csv`](https://pandas.pydata.org/pandas-docs/stable/generated/pandas.read_csv.html)\n",
        "- [`options.display`](https://pandas.pydata.org/pandas-docs/stable/options.html#available-options)"
      ]
    },
    {
      "metadata": {
        "colab_type": "code",
        "id": "3-8Vn3y6ooBC",
        "colab": {
          "base_uri": "https://localhost:8080/",
          "height": 205
        },
        "outputId": "5285371e-9758-4155-aff5-b08cb3304057"
      },
      "cell_type": "code",
      "source": [
        "!tail LoanStats_2018Q4.csv"
      ],
      "execution_count": 4,
      "outputs": [
        {
          "output_type": "stream",
          "text": [
            "\"\",\"\",\"5600\",\"5600\",\"5600\",\" 36 months\",\" 13.56%\",\"190.21\",\"C\",\"C1\",\"\",\"n/a\",\"RENT\",\"15600\",\"Not Verified\",\"Oct-2018\",\"Current\",\"n\",\"\",\"\",\"credit_card\",\"Credit card refinancing\",\"836xx\",\"ID\",\"15.31\",\"0\",\"Aug-2012\",\"0\",\"\",\"97\",\"9\",\"1\",\"5996\",\"34.5%\",\"11\",\"w\",\"5083.61\",\"5083.61\",\"750.29\",\"750.29\",\"516.39\",\"233.90\",\"0.0\",\"0.0\",\"0.0\",\"Feb-2019\",\"190.21\",\"Mar-2019\",\"Feb-2019\",\"0\",\"\",\"1\",\"Individual\",\"\",\"\",\"\",\"0\",\"0\",\"5996\",\"0\",\"0\",\"0\",\"1\",\"20\",\"0\",\"\",\"0\",\"2\",\"3017\",\"35\",\"17400\",\"1\",\"0\",\"0\",\"3\",\"750\",\"4689\",\"45.5\",\"0\",\"0\",\"20\",\"73\",\"13\",\"13\",\"0\",\"13\",\"\",\"20\",\"\",\"0\",\"3\",\"5\",\"4\",\"4\",\"1\",\"9\",\"10\",\"5\",\"9\",\"0\",\"0\",\"0\",\"0\",\"100\",\"25\",\"1\",\"0\",\"17400\",\"5996\",\"8600\",\"0\",\"\",\"\",\"\",\"\",\"\",\"\",\"\",\"\",\"\",\"\",\"\",\"N\",\"\",\"\",\"\",\"\",\"\",\"\",\"\",\"\",\"\",\"\",\"\",\"\",\"\",\"\",\"Cash\",\"N\",\"\",\"\",\"\",\"\",\"\",\"\"\n",
            "\"\",\"\",\"23000\",\"23000\",\"23000\",\" 36 months\",\" 15.02%\",\"797.53\",\"C\",\"C3\",\"Tax Consultant\",\"10+ years\",\"MORTGAGE\",\"75000\",\"Source Verified\",\"Oct-2018\",\"Charged Off\",\"n\",\"\",\"\",\"debt_consolidation\",\"Debt consolidation\",\"352xx\",\"AL\",\"20.95\",\"1\",\"Aug-1985\",\"2\",\"22\",\"\",\"12\",\"0\",\"22465\",\"43.6%\",\"28\",\"w\",\"0.00\",\"0.00\",\"1547.08\",\"1547.08\",\"1025.67\",\"521.41\",\"0.0\",\"0.0\",\"0.0\",\"Dec-2018\",\"797.53\",\"\",\"Nov-2018\",\"0\",\"\",\"1\",\"Individual\",\"\",\"\",\"\",\"0\",\"0\",\"259658\",\"4\",\"2\",\"3\",\"3\",\"6\",\"18149\",\"86\",\"4\",\"6\",\"12843\",\"56\",\"51500\",\"2\",\"2\",\"5\",\"11\",\"21638\",\"26321\",\"44.1\",\"0\",\"0\",\"12\",\"397\",\"4\",\"4\",\"6\",\"5\",\"22\",\"4\",\"22\",\"0\",\"4\",\"5\",\"7\",\"14\",\"3\",\"9\",\"19\",\"5\",\"12\",\"0\",\"0\",\"0\",\"7\",\"96.4\",\"14.3\",\"0\",\"0\",\"296500\",\"40614\",\"47100\",\"21000\",\"\",\"\",\"\",\"\",\"\",\"\",\"\",\"\",\"\",\"\",\"\",\"N\",\"\",\"\",\"\",\"\",\"\",\"\",\"\",\"\",\"\",\"\",\"\",\"\",\"\",\"\",\"Cash\",\"N\",\"\",\"\",\"\",\"\",\"\",\"\"\n",
            "\"\",\"\",\"10000\",\"10000\",\"10000\",\" 36 months\",\" 15.02%\",\"346.76\",\"C\",\"C3\",\"security guard\",\"5 years\",\"MORTGAGE\",\"38000\",\"Not Verified\",\"Oct-2018\",\"Current\",\"n\",\"\",\"\",\"debt_consolidation\",\"Debt consolidation\",\"443xx\",\"OH\",\"13.16\",\"3\",\"Jul-1982\",\"0\",\"6\",\"\",\"11\",\"0\",\"5634\",\"37.1%\",\"16\",\"w\",\"9096.85\",\"9096.85\",\"1378.7\",\"1378.70\",\"903.15\",\"475.55\",\"0.0\",\"0.0\",\"0.0\",\"Feb-2019\",\"346.76\",\"Mar-2019\",\"Feb-2019\",\"0\",\"\",\"1\",\"Individual\",\"\",\"\",\"\",\"0\",\"155\",\"77424\",\"0\",\"1\",\"0\",\"0\",\"34\",\"200\",\"10\",\"1\",\"1\",\"1866\",\"42\",\"15200\",\"2\",\"0\",\"0\",\"2\",\"7039\",\"4537\",\"50.1\",\"0\",\"0\",\"34\",\"434\",\"11\",\"11\",\"3\",\"11\",\"6\",\"17\",\"6\",\"0\",\"3\",\"5\",\"5\",\"6\",\"1\",\"8\",\"11\",\"5\",\"11\",\"0\",\"0\",\"0\",\"1\",\"73.3\",\"40\",\"0\",\"0\",\"91403\",\"9323\",\"9100\",\"2000\",\"\",\"\",\"\",\"\",\"\",\"\",\"\",\"\",\"\",\"\",\"\",\"N\",\"\",\"\",\"\",\"\",\"\",\"\",\"\",\"\",\"\",\"\",\"\",\"\",\"\",\"\",\"Cash\",\"N\",\"\",\"\",\"\",\"\",\"\",\"\"\n",
            "\"\",\"\",\"5000\",\"5000\",\"5000\",\" 36 months\",\" 13.56%\",\"169.83\",\"C\",\"C1\",\"Payoff Clerk\",\"10+ years\",\"MORTGAGE\",\"35360\",\"Not Verified\",\"Oct-2018\",\"Current\",\"n\",\"\",\"\",\"debt_consolidation\",\"Debt consolidation\",\"381xx\",\"TN\",\"11.3\",\"1\",\"Jun-2006\",\"0\",\"21\",\"\",\"9\",\"0\",\"2597\",\"27.3%\",\"15\",\"f\",\"4538.94\",\"4538.94\",\"675.55\",\"675.55\",\"461.06\",\"214.49\",\"0.0\",\"0.0\",\"0.0\",\"Feb-2019\",\"169.83\",\"Mar-2019\",\"Feb-2019\",\"0\",\"\",\"1\",\"Individual\",\"\",\"\",\"\",\"0\",\"1413\",\"69785\",\"0\",\"2\",\"0\",\"1\",\"16\",\"2379\",\"40\",\"3\",\"4\",\"1826\",\"32\",\"9500\",\"0\",\"0\",\"1\",\"5\",\"8723\",\"1174\",\"60.9\",\"0\",\"0\",\"147\",\"85\",\"9\",\"9\",\"2\",\"10\",\"21\",\"9\",\"21\",\"0\",\"1\",\"3\",\"2\",\"2\",\"6\",\"6\",\"7\",\"3\",\"9\",\"0\",\"0\",\"0\",\"3\",\"92.9\",\"50\",\"0\",\"0\",\"93908\",\"4976\",\"3000\",\"6028\",\"\",\"\",\"\",\"\",\"\",\"\",\"\",\"\",\"\",\"\",\"\",\"N\",\"\",\"\",\"\",\"\",\"\",\"\",\"\",\"\",\"\",\"\",\"\",\"\",\"\",\"\",\"Cash\",\"N\",\"\",\"\",\"\",\"\",\"\",\"\"\n",
            "\"\",\"\",\"10000\",\"10000\",\"9750\",\" 36 months\",\" 11.06%\",\"327.68\",\"B\",\"B3\",\"\",\"n/a\",\"RENT\",\"44400\",\"Source Verified\",\"Oct-2018\",\"Current\",\"n\",\"\",\"\",\"credit_card\",\"Credit card refinancing\",\"980xx\",\"WA\",\"11.78\",\"0\",\"Oct-2008\",\"2\",\"40\",\"\",\"15\",\"0\",\"6269\",\"13.1%\",\"25\",\"f\",\"9044.84\",\"8818.72\",\"1295.36\",\"1262.98\",\"955.16\",\"340.20\",\"0.0\",\"0.0\",\"0.0\",\"Feb-2019\",\"327.68\",\"Mar-2019\",\"Feb-2019\",\"0\",\"53\",\"1\",\"Individual\",\"\",\"\",\"\",\"0\",\"520\",\"16440\",\"3\",\"1\",\"1\",\"1\",\"2\",\"10171\",\"100\",\"2\",\"5\",\"404\",\"28\",\"47700\",\"0\",\"3\",\"5\",\"6\",\"1265\",\"20037\",\"2.3\",\"0\",\"0\",\"61\",\"119\",\"1\",\"1\",\"0\",\"1\",\"\",\"1\",\"40\",\"1\",\"2\",\"4\",\"6\",\"8\",\"3\",\"14\",\"22\",\"4\",\"15\",\"0\",\"0\",\"0\",\"3\",\"92\",\"0\",\"0\",\"0\",\"57871\",\"16440\",\"20500\",\"10171\",\"\",\"\",\"\",\"\",\"\",\"\",\"\",\"\",\"\",\"\",\"\",\"N\",\"\",\"\",\"\",\"\",\"\",\"\",\"\",\"\",\"\",\"\",\"\",\"\",\"\",\"\",\"Cash\",\"N\",\"\",\"\",\"\",\"\",\"\",\"\"\n",
            "\"\",\"\",\"10000\",\"10000\",\"10000\",\" 36 months\",\" 16.91%\",\"356.08\",\"C\",\"C5\",\"Key Accounts Manager\",\"2 years\",\"RENT\",\"80000\",\"Not Verified\",\"Oct-2018\",\"Current\",\"n\",\"\",\"\",\"other\",\"Other\",\"021xx\",\"MA\",\"17.72\",\"1\",\"Sep-2006\",\"0\",\"14\",\"\",\"17\",\"0\",\"1942\",\"30.8%\",\"31\",\"w\",\"9120.98\",\"9120.98\",\"1414.93\",\"1414.93\",\"879.02\",\"535.91\",\"0.0\",\"0.0\",\"0.0\",\"Feb-2019\",\"356.08\",\"Mar-2019\",\"Feb-2019\",\"0\",\"25\",\"1\",\"Individual\",\"\",\"\",\"\",\"0\",\"0\",\"59194\",\"0\",\"15\",\"1\",\"1\",\"12\",\"57252\",\"85\",\"0\",\"0\",\"1942\",\"80\",\"6300\",\"0\",\"5\",\"0\",\"1\",\"3482\",\"2058\",\"48.5\",\"0\",\"0\",\"144\",\"142\",\"40\",\"12\",\"0\",\"131\",\"30\",\"\",\"30\",\"3\",\"1\",\"1\",\"1\",\"5\",\"22\",\"2\",\"9\",\"1\",\"17\",\"0\",\"0\",\"0\",\"1\",\"74.2\",\"0\",\"0\",\"0\",\"73669\",\"59194\",\"4000\",\"67369\",\"\",\"\",\"\",\"\",\"\",\"\",\"\",\"\",\"\",\"\",\"\",\"N\",\"\",\"\",\"\",\"\",\"\",\"\",\"\",\"\",\"\",\"\",\"\",\"\",\"\",\"\",\"Cash\",\"N\",\"\",\"\",\"\",\"\",\"\",\"\"\n",
            "\n",
            "\n",
            "Total amount funded in policy code 1: 2050909275\n",
            "Total amount funded in policy code 2: 820109297\n"
          ],
          "name": "stdout"
        }
      ]
    },
    {
      "metadata": {
        "id": "C8lYfHRPEFo_",
        "colab_type": "text"
      },
      "cell_type": "markdown",
      "source": [
        ""
      ]
    },
    {
      "metadata": {
        "id": "hBnSY9MmEdC8",
        "colab_type": "code",
        "colab": {
          "base_uri": "https://localhost:8080/",
          "height": 70
        },
        "outputId": "c8e365df-42e2-4783-b321-0175cc2cb3b2"
      },
      "cell_type": "code",
      "source": [
        "import pandas as pd\n",
        "\n",
        "df = pd.read_csv('LoanStats_2018Q4.csv', skiprows=1, skipfooter=2) #"
      ],
      "execution_count": 5,
      "outputs": [
        {
          "output_type": "stream",
          "text": [
            "/usr/local/lib/python3.6/dist-packages/ipykernel_launcher.py:3: ParserWarning: Falling back to the 'python' engine because the 'c' engine does not support skipfooter; you can avoid this warning by specifying engine='python'.\n",
            "  This is separate from the ipykernel package so we can avoid doing imports until\n"
          ],
          "name": "stderr"
        }
      ]
    },
    {
      "metadata": {
        "id": "aEY24PYREtZi",
        "colab_type": "code",
        "colab": {
          "base_uri": "https://localhost:8080/",
          "height": 328
        },
        "outputId": "dfecee80-3dff-4366-b14d-60ac516ee821"
      },
      "cell_type": "code",
      "source": [
        "df.head()"
      ],
      "execution_count": 6,
      "outputs": [
        {
          "output_type": "execute_result",
          "data": {
            "text/html": [
              "<div>\n",
              "<style scoped>\n",
              "    .dataframe tbody tr th:only-of-type {\n",
              "        vertical-align: middle;\n",
              "    }\n",
              "\n",
              "    .dataframe tbody tr th {\n",
              "        vertical-align: top;\n",
              "    }\n",
              "\n",
              "    .dataframe thead th {\n",
              "        text-align: right;\n",
              "    }\n",
              "</style>\n",
              "<table border=\"1\" class=\"dataframe\">\n",
              "  <thead>\n",
              "    <tr style=\"text-align: right;\">\n",
              "      <th></th>\n",
              "      <th>id</th>\n",
              "      <th>member_id</th>\n",
              "      <th>loan_amnt</th>\n",
              "      <th>funded_amnt</th>\n",
              "      <th>funded_amnt_inv</th>\n",
              "      <th>term</th>\n",
              "      <th>int_rate</th>\n",
              "      <th>installment</th>\n",
              "      <th>grade</th>\n",
              "      <th>sub_grade</th>\n",
              "      <th>...</th>\n",
              "      <th>hardship_payoff_balance_amount</th>\n",
              "      <th>hardship_last_payment_amount</th>\n",
              "      <th>disbursement_method</th>\n",
              "      <th>debt_settlement_flag</th>\n",
              "      <th>debt_settlement_flag_date</th>\n",
              "      <th>settlement_status</th>\n",
              "      <th>settlement_date</th>\n",
              "      <th>settlement_amount</th>\n",
              "      <th>settlement_percentage</th>\n",
              "      <th>settlement_term</th>\n",
              "    </tr>\n",
              "  </thead>\n",
              "  <tbody>\n",
              "    <tr>\n",
              "      <th>0</th>\n",
              "      <td>NaN</td>\n",
              "      <td>NaN</td>\n",
              "      <td>2500</td>\n",
              "      <td>2500</td>\n",
              "      <td>2500.0</td>\n",
              "      <td>36 months</td>\n",
              "      <td>13.56%</td>\n",
              "      <td>84.92</td>\n",
              "      <td>C</td>\n",
              "      <td>C1</td>\n",
              "      <td>...</td>\n",
              "      <td>NaN</td>\n",
              "      <td>NaN</td>\n",
              "      <td>Cash</td>\n",
              "      <td>N</td>\n",
              "      <td>NaN</td>\n",
              "      <td>NaN</td>\n",
              "      <td>NaN</td>\n",
              "      <td>NaN</td>\n",
              "      <td>NaN</td>\n",
              "      <td>NaN</td>\n",
              "    </tr>\n",
              "    <tr>\n",
              "      <th>1</th>\n",
              "      <td>NaN</td>\n",
              "      <td>NaN</td>\n",
              "      <td>30000</td>\n",
              "      <td>30000</td>\n",
              "      <td>30000.0</td>\n",
              "      <td>60 months</td>\n",
              "      <td>18.94%</td>\n",
              "      <td>777.23</td>\n",
              "      <td>D</td>\n",
              "      <td>D2</td>\n",
              "      <td>...</td>\n",
              "      <td>NaN</td>\n",
              "      <td>NaN</td>\n",
              "      <td>Cash</td>\n",
              "      <td>N</td>\n",
              "      <td>NaN</td>\n",
              "      <td>NaN</td>\n",
              "      <td>NaN</td>\n",
              "      <td>NaN</td>\n",
              "      <td>NaN</td>\n",
              "      <td>NaN</td>\n",
              "    </tr>\n",
              "    <tr>\n",
              "      <th>2</th>\n",
              "      <td>NaN</td>\n",
              "      <td>NaN</td>\n",
              "      <td>5000</td>\n",
              "      <td>5000</td>\n",
              "      <td>5000.0</td>\n",
              "      <td>36 months</td>\n",
              "      <td>17.97%</td>\n",
              "      <td>180.69</td>\n",
              "      <td>D</td>\n",
              "      <td>D1</td>\n",
              "      <td>...</td>\n",
              "      <td>NaN</td>\n",
              "      <td>NaN</td>\n",
              "      <td>Cash</td>\n",
              "      <td>N</td>\n",
              "      <td>NaN</td>\n",
              "      <td>NaN</td>\n",
              "      <td>NaN</td>\n",
              "      <td>NaN</td>\n",
              "      <td>NaN</td>\n",
              "      <td>NaN</td>\n",
              "    </tr>\n",
              "    <tr>\n",
              "      <th>3</th>\n",
              "      <td>NaN</td>\n",
              "      <td>NaN</td>\n",
              "      <td>4000</td>\n",
              "      <td>4000</td>\n",
              "      <td>4000.0</td>\n",
              "      <td>36 months</td>\n",
              "      <td>18.94%</td>\n",
              "      <td>146.51</td>\n",
              "      <td>D</td>\n",
              "      <td>D2</td>\n",
              "      <td>...</td>\n",
              "      <td>NaN</td>\n",
              "      <td>NaN</td>\n",
              "      <td>Cash</td>\n",
              "      <td>N</td>\n",
              "      <td>NaN</td>\n",
              "      <td>NaN</td>\n",
              "      <td>NaN</td>\n",
              "      <td>NaN</td>\n",
              "      <td>NaN</td>\n",
              "      <td>NaN</td>\n",
              "    </tr>\n",
              "    <tr>\n",
              "      <th>4</th>\n",
              "      <td>NaN</td>\n",
              "      <td>NaN</td>\n",
              "      <td>30000</td>\n",
              "      <td>30000</td>\n",
              "      <td>30000.0</td>\n",
              "      <td>60 months</td>\n",
              "      <td>16.14%</td>\n",
              "      <td>731.78</td>\n",
              "      <td>C</td>\n",
              "      <td>C4</td>\n",
              "      <td>...</td>\n",
              "      <td>NaN</td>\n",
              "      <td>NaN</td>\n",
              "      <td>Cash</td>\n",
              "      <td>N</td>\n",
              "      <td>NaN</td>\n",
              "      <td>NaN</td>\n",
              "      <td>NaN</td>\n",
              "      <td>NaN</td>\n",
              "      <td>NaN</td>\n",
              "      <td>NaN</td>\n",
              "    </tr>\n",
              "  </tbody>\n",
              "</table>\n",
              "<p>5 rows × 145 columns</p>\n",
              "</div>"
            ],
            "text/plain": [
              "   id  member_id  loan_amnt  funded_amnt  funded_amnt_inv        term  \\\n",
              "0 NaN        NaN       2500         2500           2500.0   36 months   \n",
              "1 NaN        NaN      30000        30000          30000.0   60 months   \n",
              "2 NaN        NaN       5000         5000           5000.0   36 months   \n",
              "3 NaN        NaN       4000         4000           4000.0   36 months   \n",
              "4 NaN        NaN      30000        30000          30000.0   60 months   \n",
              "\n",
              "  int_rate  installment grade sub_grade       ...         \\\n",
              "0   13.56%        84.92     C        C1       ...          \n",
              "1   18.94%       777.23     D        D2       ...          \n",
              "2   17.97%       180.69     D        D1       ...          \n",
              "3   18.94%       146.51     D        D2       ...          \n",
              "4   16.14%       731.78     C        C4       ...          \n",
              "\n",
              "  hardship_payoff_balance_amount hardship_last_payment_amount  \\\n",
              "0                            NaN                          NaN   \n",
              "1                            NaN                          NaN   \n",
              "2                            NaN                          NaN   \n",
              "3                            NaN                          NaN   \n",
              "4                            NaN                          NaN   \n",
              "\n",
              "  disbursement_method  debt_settlement_flag debt_settlement_flag_date  \\\n",
              "0                Cash                     N                       NaN   \n",
              "1                Cash                     N                       NaN   \n",
              "2                Cash                     N                       NaN   \n",
              "3                Cash                     N                       NaN   \n",
              "4                Cash                     N                       NaN   \n",
              "\n",
              "  settlement_status settlement_date settlement_amount  settlement_percentage  \\\n",
              "0               NaN             NaN               NaN                    NaN   \n",
              "1               NaN             NaN               NaN                    NaN   \n",
              "2               NaN             NaN               NaN                    NaN   \n",
              "3               NaN             NaN               NaN                    NaN   \n",
              "4               NaN             NaN               NaN                    NaN   \n",
              "\n",
              "   settlement_term  \n",
              "0              NaN  \n",
              "1              NaN  \n",
              "2              NaN  \n",
              "3              NaN  \n",
              "4              NaN  \n",
              "\n",
              "[5 rows x 145 columns]"
            ]
          },
          "metadata": {
            "tags": []
          },
          "execution_count": 6
        }
      ]
    },
    {
      "metadata": {
        "id": "WdHFHYbUFhuw",
        "colab_type": "code",
        "colab": {
          "base_uri": "https://localhost:8080/",
          "height": 34
        },
        "outputId": "d81ae36f-c824-411a-e85e-27edcc264c02"
      },
      "cell_type": "code",
      "source": [
        "df.shape"
      ],
      "execution_count": 7,
      "outputs": [
        {
          "output_type": "execute_result",
          "data": {
            "text/plain": [
              "(128412, 145)"
            ]
          },
          "metadata": {
            "tags": []
          },
          "execution_count": 7
        }
      ]
    },
    {
      "metadata": {
        "id": "ZrqDAdj1Fi_i",
        "colab_type": "code",
        "colab": {
          "base_uri": "https://localhost:8080/",
          "height": 1058
        },
        "outputId": "b2730d00-18c8-4c87-c766-4bf99670834a"
      },
      "cell_type": "code",
      "source": [
        "df.isnull().sum().sort_values()"
      ],
      "execution_count": 8,
      "outputs": [
        {
          "output_type": "execute_result",
          "data": {
            "text/plain": [
              "total_cu_tl                                        0\n",
              "mo_sin_old_rev_tl_op                               0\n",
              "delinq_amnt                                        0\n",
              "chargeoff_within_12_mths                           0\n",
              "acc_open_past_24mths                               0\n",
              "inq_last_12m                                       0\n",
              "inq_fi                                             0\n",
              "total_rev_hi_lim                                   0\n",
              "max_bal_bc                                         0\n",
              "open_rv_24m                                        0\n",
              "open_rv_12m                                        0\n",
              "total_bal_il                                       0\n",
              "debt_settlement_flag                               0\n",
              "open_il_12m                                        0\n",
              "open_act_il                                        0\n",
              "open_acc_6m                                        0\n",
              "tot_cur_bal                                        0\n",
              "tot_coll_amt                                       0\n",
              "acc_now_delinq                                     0\n",
              "application_type                                   0\n",
              "mo_sin_rcnt_rev_tl_op                              0\n",
              "mo_sin_rcnt_tl                                     0\n",
              "mort_acc                                           0\n",
              "num_accts_ever_120_pd                              0\n",
              "hardship_flag                                      0\n",
              "total_il_high_credit_limit                         0\n",
              "total_bc_limit                                     0\n",
              "total_bal_ex_mort                                  0\n",
              "tot_hi_cred_lim                                    0\n",
              "tax_liens                                          0\n",
              "                                               ...  \n",
              "sec_app_open_act_il                           111630\n",
              "sec_app_num_rev_accts                         111630\n",
              "sec_app_revol_util                            111888\n",
              "mths_since_last_record                        112962\n",
              "verification_status_joint                     113564\n",
              "sec_app_mths_since_last_major_derog           123258\n",
              "settlement_date                               128410\n",
              "settlement_amount                             128410\n",
              "debt_settlement_flag_date                     128410\n",
              "settlement_status                             128410\n",
              "settlement_term                               128410\n",
              "settlement_percentage                         128410\n",
              "deferral_term                                 128411\n",
              "hardship_type                                 128411\n",
              "hardship_reason                               128411\n",
              "hardship_last_payment_amount                  128411\n",
              "hardship_status                               128411\n",
              "orig_projected_additional_accrued_interest    128411\n",
              "hardship_payoff_balance_amount                128411\n",
              "hardship_dpd                                  128411\n",
              "hardship_length                               128411\n",
              "payment_plan_start_date                       128411\n",
              "hardship_end_date                             128411\n",
              "hardship_start_date                           128411\n",
              "hardship_amount                               128411\n",
              "hardship_loan_status                          128411\n",
              "desc                                          128412\n",
              "url                                           128412\n",
              "member_id                                     128412\n",
              "id                                            128412\n",
              "Length: 145, dtype: int64"
            ]
          },
          "metadata": {
            "tags": []
          },
          "execution_count": 8
        }
      ]
    },
    {
      "metadata": {
        "id": "GCESGB4WFogE",
        "colab_type": "code",
        "colab": {
          "base_uri": "https://localhost:8080/",
          "height": 316
        },
        "outputId": "1fd96490-831d-4c28-f7fd-a00a720cbac1"
      },
      "cell_type": "code",
      "source": [
        "pd.options.display.max_columns = 500\n",
        "pd.options.display.max_rows = 500 #done send it equal to none becasue then it would send all the data about rows to the colab\n",
        "#and that is going to crash it because the Ram is only 12GB\n",
        "\n",
        "df.head()\n",
        "\n",
        "df.tail()"
      ],
      "execution_count": 9,
      "outputs": [
        {
          "output_type": "execute_result",
          "data": {
            "text/html": [
              "<div>\n",
              "<style scoped>\n",
              "    .dataframe tbody tr th:only-of-type {\n",
              "        vertical-align: middle;\n",
              "    }\n",
              "\n",
              "    .dataframe tbody tr th {\n",
              "        vertical-align: top;\n",
              "    }\n",
              "\n",
              "    .dataframe thead th {\n",
              "        text-align: right;\n",
              "    }\n",
              "</style>\n",
              "<table border=\"1\" class=\"dataframe\">\n",
              "  <thead>\n",
              "    <tr style=\"text-align: right;\">\n",
              "      <th></th>\n",
              "      <th>id</th>\n",
              "      <th>member_id</th>\n",
              "      <th>loan_amnt</th>\n",
              "      <th>funded_amnt</th>\n",
              "      <th>funded_amnt_inv</th>\n",
              "      <th>term</th>\n",
              "      <th>int_rate</th>\n",
              "      <th>installment</th>\n",
              "      <th>grade</th>\n",
              "      <th>sub_grade</th>\n",
              "      <th>emp_title</th>\n",
              "      <th>emp_length</th>\n",
              "      <th>home_ownership</th>\n",
              "      <th>annual_inc</th>\n",
              "      <th>verification_status</th>\n",
              "      <th>issue_d</th>\n",
              "      <th>loan_status</th>\n",
              "      <th>pymnt_plan</th>\n",
              "      <th>url</th>\n",
              "      <th>desc</th>\n",
              "      <th>purpose</th>\n",
              "      <th>title</th>\n",
              "      <th>zip_code</th>\n",
              "      <th>addr_state</th>\n",
              "      <th>dti</th>\n",
              "      <th>delinq_2yrs</th>\n",
              "      <th>earliest_cr_line</th>\n",
              "      <th>inq_last_6mths</th>\n",
              "      <th>mths_since_last_delinq</th>\n",
              "      <th>mths_since_last_record</th>\n",
              "      <th>open_acc</th>\n",
              "      <th>pub_rec</th>\n",
              "      <th>revol_bal</th>\n",
              "      <th>revol_util</th>\n",
              "      <th>total_acc</th>\n",
              "      <th>initial_list_status</th>\n",
              "      <th>out_prncp</th>\n",
              "      <th>out_prncp_inv</th>\n",
              "      <th>total_pymnt</th>\n",
              "      <th>total_pymnt_inv</th>\n",
              "      <th>total_rec_prncp</th>\n",
              "      <th>total_rec_int</th>\n",
              "      <th>total_rec_late_fee</th>\n",
              "      <th>recoveries</th>\n",
              "      <th>collection_recovery_fee</th>\n",
              "      <th>last_pymnt_d</th>\n",
              "      <th>last_pymnt_amnt</th>\n",
              "      <th>next_pymnt_d</th>\n",
              "      <th>last_credit_pull_d</th>\n",
              "      <th>collections_12_mths_ex_med</th>\n",
              "      <th>mths_since_last_major_derog</th>\n",
              "      <th>policy_code</th>\n",
              "      <th>application_type</th>\n",
              "      <th>annual_inc_joint</th>\n",
              "      <th>dti_joint</th>\n",
              "      <th>verification_status_joint</th>\n",
              "      <th>acc_now_delinq</th>\n",
              "      <th>tot_coll_amt</th>\n",
              "      <th>tot_cur_bal</th>\n",
              "      <th>open_acc_6m</th>\n",
              "      <th>open_act_il</th>\n",
              "      <th>open_il_12m</th>\n",
              "      <th>open_il_24m</th>\n",
              "      <th>mths_since_rcnt_il</th>\n",
              "      <th>total_bal_il</th>\n",
              "      <th>il_util</th>\n",
              "      <th>open_rv_12m</th>\n",
              "      <th>open_rv_24m</th>\n",
              "      <th>max_bal_bc</th>\n",
              "      <th>all_util</th>\n",
              "      <th>total_rev_hi_lim</th>\n",
              "      <th>inq_fi</th>\n",
              "      <th>total_cu_tl</th>\n",
              "      <th>inq_last_12m</th>\n",
              "      <th>acc_open_past_24mths</th>\n",
              "      <th>avg_cur_bal</th>\n",
              "      <th>bc_open_to_buy</th>\n",
              "      <th>bc_util</th>\n",
              "      <th>chargeoff_within_12_mths</th>\n",
              "      <th>delinq_amnt</th>\n",
              "      <th>mo_sin_old_il_acct</th>\n",
              "      <th>mo_sin_old_rev_tl_op</th>\n",
              "      <th>mo_sin_rcnt_rev_tl_op</th>\n",
              "      <th>mo_sin_rcnt_tl</th>\n",
              "      <th>mort_acc</th>\n",
              "      <th>mths_since_recent_bc</th>\n",
              "      <th>mths_since_recent_bc_dlq</th>\n",
              "      <th>mths_since_recent_inq</th>\n",
              "      <th>mths_since_recent_revol_delinq</th>\n",
              "      <th>num_accts_ever_120_pd</th>\n",
              "      <th>num_actv_bc_tl</th>\n",
              "      <th>num_actv_rev_tl</th>\n",
              "      <th>num_bc_sats</th>\n",
              "      <th>num_bc_tl</th>\n",
              "      <th>num_il_tl</th>\n",
              "      <th>num_op_rev_tl</th>\n",
              "      <th>num_rev_accts</th>\n",
              "      <th>num_rev_tl_bal_gt_0</th>\n",
              "      <th>num_sats</th>\n",
              "      <th>num_tl_120dpd_2m</th>\n",
              "      <th>num_tl_30dpd</th>\n",
              "      <th>num_tl_90g_dpd_24m</th>\n",
              "      <th>num_tl_op_past_12m</th>\n",
              "      <th>pct_tl_nvr_dlq</th>\n",
              "      <th>percent_bc_gt_75</th>\n",
              "      <th>pub_rec_bankruptcies</th>\n",
              "      <th>tax_liens</th>\n",
              "      <th>tot_hi_cred_lim</th>\n",
              "      <th>total_bal_ex_mort</th>\n",
              "      <th>total_bc_limit</th>\n",
              "      <th>total_il_high_credit_limit</th>\n",
              "      <th>revol_bal_joint</th>\n",
              "      <th>sec_app_earliest_cr_line</th>\n",
              "      <th>sec_app_inq_last_6mths</th>\n",
              "      <th>sec_app_mort_acc</th>\n",
              "      <th>sec_app_open_acc</th>\n",
              "      <th>sec_app_revol_util</th>\n",
              "      <th>sec_app_open_act_il</th>\n",
              "      <th>sec_app_num_rev_accts</th>\n",
              "      <th>sec_app_chargeoff_within_12_mths</th>\n",
              "      <th>sec_app_collections_12_mths_ex_med</th>\n",
              "      <th>sec_app_mths_since_last_major_derog</th>\n",
              "      <th>hardship_flag</th>\n",
              "      <th>hardship_type</th>\n",
              "      <th>hardship_reason</th>\n",
              "      <th>hardship_status</th>\n",
              "      <th>deferral_term</th>\n",
              "      <th>hardship_amount</th>\n",
              "      <th>hardship_start_date</th>\n",
              "      <th>hardship_end_date</th>\n",
              "      <th>payment_plan_start_date</th>\n",
              "      <th>hardship_length</th>\n",
              "      <th>hardship_dpd</th>\n",
              "      <th>hardship_loan_status</th>\n",
              "      <th>orig_projected_additional_accrued_interest</th>\n",
              "      <th>hardship_payoff_balance_amount</th>\n",
              "      <th>hardship_last_payment_amount</th>\n",
              "      <th>disbursement_method</th>\n",
              "      <th>debt_settlement_flag</th>\n",
              "      <th>debt_settlement_flag_date</th>\n",
              "      <th>settlement_status</th>\n",
              "      <th>settlement_date</th>\n",
              "      <th>settlement_amount</th>\n",
              "      <th>settlement_percentage</th>\n",
              "      <th>settlement_term</th>\n",
              "    </tr>\n",
              "  </thead>\n",
              "  <tbody>\n",
              "    <tr>\n",
              "      <th>128407</th>\n",
              "      <td>NaN</td>\n",
              "      <td>NaN</td>\n",
              "      <td>23000</td>\n",
              "      <td>23000</td>\n",
              "      <td>23000.0</td>\n",
              "      <td>36 months</td>\n",
              "      <td>15.02%</td>\n",
              "      <td>797.53</td>\n",
              "      <td>C</td>\n",
              "      <td>C3</td>\n",
              "      <td>Tax Consultant</td>\n",
              "      <td>10+ years</td>\n",
              "      <td>MORTGAGE</td>\n",
              "      <td>75000.0</td>\n",
              "      <td>Source Verified</td>\n",
              "      <td>Oct-2018</td>\n",
              "      <td>Charged Off</td>\n",
              "      <td>n</td>\n",
              "      <td>NaN</td>\n",
              "      <td>NaN</td>\n",
              "      <td>debt_consolidation</td>\n",
              "      <td>Debt consolidation</td>\n",
              "      <td>352xx</td>\n",
              "      <td>AL</td>\n",
              "      <td>20.95</td>\n",
              "      <td>1</td>\n",
              "      <td>Aug-1985</td>\n",
              "      <td>2</td>\n",
              "      <td>22.0</td>\n",
              "      <td>NaN</td>\n",
              "      <td>12</td>\n",
              "      <td>0</td>\n",
              "      <td>22465</td>\n",
              "      <td>43.6%</td>\n",
              "      <td>28</td>\n",
              "      <td>w</td>\n",
              "      <td>0.00</td>\n",
              "      <td>0.00</td>\n",
              "      <td>1547.08</td>\n",
              "      <td>1547.08</td>\n",
              "      <td>1025.67</td>\n",
              "      <td>521.41</td>\n",
              "      <td>0.0</td>\n",
              "      <td>0.0</td>\n",
              "      <td>0.0</td>\n",
              "      <td>Dec-2018</td>\n",
              "      <td>797.53</td>\n",
              "      <td>NaN</td>\n",
              "      <td>Nov-2018</td>\n",
              "      <td>0</td>\n",
              "      <td>NaN</td>\n",
              "      <td>1</td>\n",
              "      <td>Individual</td>\n",
              "      <td>NaN</td>\n",
              "      <td>NaN</td>\n",
              "      <td>NaN</td>\n",
              "      <td>0</td>\n",
              "      <td>0</td>\n",
              "      <td>259658</td>\n",
              "      <td>4</td>\n",
              "      <td>2</td>\n",
              "      <td>3</td>\n",
              "      <td>3</td>\n",
              "      <td>6.0</td>\n",
              "      <td>18149</td>\n",
              "      <td>86.0</td>\n",
              "      <td>4</td>\n",
              "      <td>6</td>\n",
              "      <td>12843</td>\n",
              "      <td>56.0</td>\n",
              "      <td>51500</td>\n",
              "      <td>2</td>\n",
              "      <td>2</td>\n",
              "      <td>5</td>\n",
              "      <td>11</td>\n",
              "      <td>21638.0</td>\n",
              "      <td>26321.0</td>\n",
              "      <td>44.1</td>\n",
              "      <td>0</td>\n",
              "      <td>0</td>\n",
              "      <td>12.0</td>\n",
              "      <td>397</td>\n",
              "      <td>4</td>\n",
              "      <td>4</td>\n",
              "      <td>6</td>\n",
              "      <td>5.0</td>\n",
              "      <td>22.0</td>\n",
              "      <td>4.0</td>\n",
              "      <td>22.0</td>\n",
              "      <td>0</td>\n",
              "      <td>4</td>\n",
              "      <td>5</td>\n",
              "      <td>7</td>\n",
              "      <td>14</td>\n",
              "      <td>3</td>\n",
              "      <td>9</td>\n",
              "      <td>19</td>\n",
              "      <td>5</td>\n",
              "      <td>12</td>\n",
              "      <td>0.0</td>\n",
              "      <td>0</td>\n",
              "      <td>0</td>\n",
              "      <td>7</td>\n",
              "      <td>96.4</td>\n",
              "      <td>14.3</td>\n",
              "      <td>0</td>\n",
              "      <td>0</td>\n",
              "      <td>296500</td>\n",
              "      <td>40614</td>\n",
              "      <td>47100</td>\n",
              "      <td>21000</td>\n",
              "      <td>NaN</td>\n",
              "      <td>NaN</td>\n",
              "      <td>NaN</td>\n",
              "      <td>NaN</td>\n",
              "      <td>NaN</td>\n",
              "      <td>NaN</td>\n",
              "      <td>NaN</td>\n",
              "      <td>NaN</td>\n",
              "      <td>NaN</td>\n",
              "      <td>NaN</td>\n",
              "      <td>NaN</td>\n",
              "      <td>N</td>\n",
              "      <td>NaN</td>\n",
              "      <td>NaN</td>\n",
              "      <td>NaN</td>\n",
              "      <td>NaN</td>\n",
              "      <td>NaN</td>\n",
              "      <td>NaN</td>\n",
              "      <td>NaN</td>\n",
              "      <td>NaN</td>\n",
              "      <td>NaN</td>\n",
              "      <td>NaN</td>\n",
              "      <td>NaN</td>\n",
              "      <td>NaN</td>\n",
              "      <td>NaN</td>\n",
              "      <td>NaN</td>\n",
              "      <td>Cash</td>\n",
              "      <td>N</td>\n",
              "      <td>NaN</td>\n",
              "      <td>NaN</td>\n",
              "      <td>NaN</td>\n",
              "      <td>NaN</td>\n",
              "      <td>NaN</td>\n",
              "      <td>NaN</td>\n",
              "    </tr>\n",
              "    <tr>\n",
              "      <th>128408</th>\n",
              "      <td>NaN</td>\n",
              "      <td>NaN</td>\n",
              "      <td>10000</td>\n",
              "      <td>10000</td>\n",
              "      <td>10000.0</td>\n",
              "      <td>36 months</td>\n",
              "      <td>15.02%</td>\n",
              "      <td>346.76</td>\n",
              "      <td>C</td>\n",
              "      <td>C3</td>\n",
              "      <td>security guard</td>\n",
              "      <td>5 years</td>\n",
              "      <td>MORTGAGE</td>\n",
              "      <td>38000.0</td>\n",
              "      <td>Not Verified</td>\n",
              "      <td>Oct-2018</td>\n",
              "      <td>Current</td>\n",
              "      <td>n</td>\n",
              "      <td>NaN</td>\n",
              "      <td>NaN</td>\n",
              "      <td>debt_consolidation</td>\n",
              "      <td>Debt consolidation</td>\n",
              "      <td>443xx</td>\n",
              "      <td>OH</td>\n",
              "      <td>13.16</td>\n",
              "      <td>3</td>\n",
              "      <td>Jul-1982</td>\n",
              "      <td>0</td>\n",
              "      <td>6.0</td>\n",
              "      <td>NaN</td>\n",
              "      <td>11</td>\n",
              "      <td>0</td>\n",
              "      <td>5634</td>\n",
              "      <td>37.1%</td>\n",
              "      <td>16</td>\n",
              "      <td>w</td>\n",
              "      <td>9096.85</td>\n",
              "      <td>9096.85</td>\n",
              "      <td>1378.70</td>\n",
              "      <td>1378.70</td>\n",
              "      <td>903.15</td>\n",
              "      <td>475.55</td>\n",
              "      <td>0.0</td>\n",
              "      <td>0.0</td>\n",
              "      <td>0.0</td>\n",
              "      <td>Feb-2019</td>\n",
              "      <td>346.76</td>\n",
              "      <td>Mar-2019</td>\n",
              "      <td>Feb-2019</td>\n",
              "      <td>0</td>\n",
              "      <td>NaN</td>\n",
              "      <td>1</td>\n",
              "      <td>Individual</td>\n",
              "      <td>NaN</td>\n",
              "      <td>NaN</td>\n",
              "      <td>NaN</td>\n",
              "      <td>0</td>\n",
              "      <td>155</td>\n",
              "      <td>77424</td>\n",
              "      <td>0</td>\n",
              "      <td>1</td>\n",
              "      <td>0</td>\n",
              "      <td>0</td>\n",
              "      <td>34.0</td>\n",
              "      <td>200</td>\n",
              "      <td>10.0</td>\n",
              "      <td>1</td>\n",
              "      <td>1</td>\n",
              "      <td>1866</td>\n",
              "      <td>42.0</td>\n",
              "      <td>15200</td>\n",
              "      <td>2</td>\n",
              "      <td>0</td>\n",
              "      <td>0</td>\n",
              "      <td>2</td>\n",
              "      <td>7039.0</td>\n",
              "      <td>4537.0</td>\n",
              "      <td>50.1</td>\n",
              "      <td>0</td>\n",
              "      <td>0</td>\n",
              "      <td>34.0</td>\n",
              "      <td>434</td>\n",
              "      <td>11</td>\n",
              "      <td>11</td>\n",
              "      <td>3</td>\n",
              "      <td>11.0</td>\n",
              "      <td>6.0</td>\n",
              "      <td>17.0</td>\n",
              "      <td>6.0</td>\n",
              "      <td>0</td>\n",
              "      <td>3</td>\n",
              "      <td>5</td>\n",
              "      <td>5</td>\n",
              "      <td>6</td>\n",
              "      <td>1</td>\n",
              "      <td>8</td>\n",
              "      <td>11</td>\n",
              "      <td>5</td>\n",
              "      <td>11</td>\n",
              "      <td>0.0</td>\n",
              "      <td>0</td>\n",
              "      <td>0</td>\n",
              "      <td>1</td>\n",
              "      <td>73.3</td>\n",
              "      <td>40.0</td>\n",
              "      <td>0</td>\n",
              "      <td>0</td>\n",
              "      <td>91403</td>\n",
              "      <td>9323</td>\n",
              "      <td>9100</td>\n",
              "      <td>2000</td>\n",
              "      <td>NaN</td>\n",
              "      <td>NaN</td>\n",
              "      <td>NaN</td>\n",
              "      <td>NaN</td>\n",
              "      <td>NaN</td>\n",
              "      <td>NaN</td>\n",
              "      <td>NaN</td>\n",
              "      <td>NaN</td>\n",
              "      <td>NaN</td>\n",
              "      <td>NaN</td>\n",
              "      <td>NaN</td>\n",
              "      <td>N</td>\n",
              "      <td>NaN</td>\n",
              "      <td>NaN</td>\n",
              "      <td>NaN</td>\n",
              "      <td>NaN</td>\n",
              "      <td>NaN</td>\n",
              "      <td>NaN</td>\n",
              "      <td>NaN</td>\n",
              "      <td>NaN</td>\n",
              "      <td>NaN</td>\n",
              "      <td>NaN</td>\n",
              "      <td>NaN</td>\n",
              "      <td>NaN</td>\n",
              "      <td>NaN</td>\n",
              "      <td>NaN</td>\n",
              "      <td>Cash</td>\n",
              "      <td>N</td>\n",
              "      <td>NaN</td>\n",
              "      <td>NaN</td>\n",
              "      <td>NaN</td>\n",
              "      <td>NaN</td>\n",
              "      <td>NaN</td>\n",
              "      <td>NaN</td>\n",
              "    </tr>\n",
              "    <tr>\n",
              "      <th>128409</th>\n",
              "      <td>NaN</td>\n",
              "      <td>NaN</td>\n",
              "      <td>5000</td>\n",
              "      <td>5000</td>\n",
              "      <td>5000.0</td>\n",
              "      <td>36 months</td>\n",
              "      <td>13.56%</td>\n",
              "      <td>169.83</td>\n",
              "      <td>C</td>\n",
              "      <td>C1</td>\n",
              "      <td>Payoff Clerk</td>\n",
              "      <td>10+ years</td>\n",
              "      <td>MORTGAGE</td>\n",
              "      <td>35360.0</td>\n",
              "      <td>Not Verified</td>\n",
              "      <td>Oct-2018</td>\n",
              "      <td>Current</td>\n",
              "      <td>n</td>\n",
              "      <td>NaN</td>\n",
              "      <td>NaN</td>\n",
              "      <td>debt_consolidation</td>\n",
              "      <td>Debt consolidation</td>\n",
              "      <td>381xx</td>\n",
              "      <td>TN</td>\n",
              "      <td>11.30</td>\n",
              "      <td>1</td>\n",
              "      <td>Jun-2006</td>\n",
              "      <td>0</td>\n",
              "      <td>21.0</td>\n",
              "      <td>NaN</td>\n",
              "      <td>9</td>\n",
              "      <td>0</td>\n",
              "      <td>2597</td>\n",
              "      <td>27.3%</td>\n",
              "      <td>15</td>\n",
              "      <td>f</td>\n",
              "      <td>4538.94</td>\n",
              "      <td>4538.94</td>\n",
              "      <td>675.55</td>\n",
              "      <td>675.55</td>\n",
              "      <td>461.06</td>\n",
              "      <td>214.49</td>\n",
              "      <td>0.0</td>\n",
              "      <td>0.0</td>\n",
              "      <td>0.0</td>\n",
              "      <td>Feb-2019</td>\n",
              "      <td>169.83</td>\n",
              "      <td>Mar-2019</td>\n",
              "      <td>Feb-2019</td>\n",
              "      <td>0</td>\n",
              "      <td>NaN</td>\n",
              "      <td>1</td>\n",
              "      <td>Individual</td>\n",
              "      <td>NaN</td>\n",
              "      <td>NaN</td>\n",
              "      <td>NaN</td>\n",
              "      <td>0</td>\n",
              "      <td>1413</td>\n",
              "      <td>69785</td>\n",
              "      <td>0</td>\n",
              "      <td>2</td>\n",
              "      <td>0</td>\n",
              "      <td>1</td>\n",
              "      <td>16.0</td>\n",
              "      <td>2379</td>\n",
              "      <td>40.0</td>\n",
              "      <td>3</td>\n",
              "      <td>4</td>\n",
              "      <td>1826</td>\n",
              "      <td>32.0</td>\n",
              "      <td>9500</td>\n",
              "      <td>0</td>\n",
              "      <td>0</td>\n",
              "      <td>1</td>\n",
              "      <td>5</td>\n",
              "      <td>8723.0</td>\n",
              "      <td>1174.0</td>\n",
              "      <td>60.9</td>\n",
              "      <td>0</td>\n",
              "      <td>0</td>\n",
              "      <td>147.0</td>\n",
              "      <td>85</td>\n",
              "      <td>9</td>\n",
              "      <td>9</td>\n",
              "      <td>2</td>\n",
              "      <td>10.0</td>\n",
              "      <td>21.0</td>\n",
              "      <td>9.0</td>\n",
              "      <td>21.0</td>\n",
              "      <td>0</td>\n",
              "      <td>1</td>\n",
              "      <td>3</td>\n",
              "      <td>2</td>\n",
              "      <td>2</td>\n",
              "      <td>6</td>\n",
              "      <td>6</td>\n",
              "      <td>7</td>\n",
              "      <td>3</td>\n",
              "      <td>9</td>\n",
              "      <td>0.0</td>\n",
              "      <td>0</td>\n",
              "      <td>0</td>\n",
              "      <td>3</td>\n",
              "      <td>92.9</td>\n",
              "      <td>50.0</td>\n",
              "      <td>0</td>\n",
              "      <td>0</td>\n",
              "      <td>93908</td>\n",
              "      <td>4976</td>\n",
              "      <td>3000</td>\n",
              "      <td>6028</td>\n",
              "      <td>NaN</td>\n",
              "      <td>NaN</td>\n",
              "      <td>NaN</td>\n",
              "      <td>NaN</td>\n",
              "      <td>NaN</td>\n",
              "      <td>NaN</td>\n",
              "      <td>NaN</td>\n",
              "      <td>NaN</td>\n",
              "      <td>NaN</td>\n",
              "      <td>NaN</td>\n",
              "      <td>NaN</td>\n",
              "      <td>N</td>\n",
              "      <td>NaN</td>\n",
              "      <td>NaN</td>\n",
              "      <td>NaN</td>\n",
              "      <td>NaN</td>\n",
              "      <td>NaN</td>\n",
              "      <td>NaN</td>\n",
              "      <td>NaN</td>\n",
              "      <td>NaN</td>\n",
              "      <td>NaN</td>\n",
              "      <td>NaN</td>\n",
              "      <td>NaN</td>\n",
              "      <td>NaN</td>\n",
              "      <td>NaN</td>\n",
              "      <td>NaN</td>\n",
              "      <td>Cash</td>\n",
              "      <td>N</td>\n",
              "      <td>NaN</td>\n",
              "      <td>NaN</td>\n",
              "      <td>NaN</td>\n",
              "      <td>NaN</td>\n",
              "      <td>NaN</td>\n",
              "      <td>NaN</td>\n",
              "    </tr>\n",
              "    <tr>\n",
              "      <th>128410</th>\n",
              "      <td>NaN</td>\n",
              "      <td>NaN</td>\n",
              "      <td>10000</td>\n",
              "      <td>10000</td>\n",
              "      <td>9750.0</td>\n",
              "      <td>36 months</td>\n",
              "      <td>11.06%</td>\n",
              "      <td>327.68</td>\n",
              "      <td>B</td>\n",
              "      <td>B3</td>\n",
              "      <td>NaN</td>\n",
              "      <td>NaN</td>\n",
              "      <td>RENT</td>\n",
              "      <td>44400.0</td>\n",
              "      <td>Source Verified</td>\n",
              "      <td>Oct-2018</td>\n",
              "      <td>Current</td>\n",
              "      <td>n</td>\n",
              "      <td>NaN</td>\n",
              "      <td>NaN</td>\n",
              "      <td>credit_card</td>\n",
              "      <td>Credit card refinancing</td>\n",
              "      <td>980xx</td>\n",
              "      <td>WA</td>\n",
              "      <td>11.78</td>\n",
              "      <td>0</td>\n",
              "      <td>Oct-2008</td>\n",
              "      <td>2</td>\n",
              "      <td>40.0</td>\n",
              "      <td>NaN</td>\n",
              "      <td>15</td>\n",
              "      <td>0</td>\n",
              "      <td>6269</td>\n",
              "      <td>13.1%</td>\n",
              "      <td>25</td>\n",
              "      <td>f</td>\n",
              "      <td>9044.84</td>\n",
              "      <td>8818.72</td>\n",
              "      <td>1295.36</td>\n",
              "      <td>1262.98</td>\n",
              "      <td>955.16</td>\n",
              "      <td>340.20</td>\n",
              "      <td>0.0</td>\n",
              "      <td>0.0</td>\n",
              "      <td>0.0</td>\n",
              "      <td>Feb-2019</td>\n",
              "      <td>327.68</td>\n",
              "      <td>Mar-2019</td>\n",
              "      <td>Feb-2019</td>\n",
              "      <td>0</td>\n",
              "      <td>53.0</td>\n",
              "      <td>1</td>\n",
              "      <td>Individual</td>\n",
              "      <td>NaN</td>\n",
              "      <td>NaN</td>\n",
              "      <td>NaN</td>\n",
              "      <td>0</td>\n",
              "      <td>520</td>\n",
              "      <td>16440</td>\n",
              "      <td>3</td>\n",
              "      <td>1</td>\n",
              "      <td>1</td>\n",
              "      <td>1</td>\n",
              "      <td>2.0</td>\n",
              "      <td>10171</td>\n",
              "      <td>100.0</td>\n",
              "      <td>2</td>\n",
              "      <td>5</td>\n",
              "      <td>404</td>\n",
              "      <td>28.0</td>\n",
              "      <td>47700</td>\n",
              "      <td>0</td>\n",
              "      <td>3</td>\n",
              "      <td>5</td>\n",
              "      <td>6</td>\n",
              "      <td>1265.0</td>\n",
              "      <td>20037.0</td>\n",
              "      <td>2.3</td>\n",
              "      <td>0</td>\n",
              "      <td>0</td>\n",
              "      <td>61.0</td>\n",
              "      <td>119</td>\n",
              "      <td>1</td>\n",
              "      <td>1</td>\n",
              "      <td>0</td>\n",
              "      <td>1.0</td>\n",
              "      <td>NaN</td>\n",
              "      <td>1.0</td>\n",
              "      <td>40.0</td>\n",
              "      <td>1</td>\n",
              "      <td>2</td>\n",
              "      <td>4</td>\n",
              "      <td>6</td>\n",
              "      <td>8</td>\n",
              "      <td>3</td>\n",
              "      <td>14</td>\n",
              "      <td>22</td>\n",
              "      <td>4</td>\n",
              "      <td>15</td>\n",
              "      <td>0.0</td>\n",
              "      <td>0</td>\n",
              "      <td>0</td>\n",
              "      <td>3</td>\n",
              "      <td>92.0</td>\n",
              "      <td>0.0</td>\n",
              "      <td>0</td>\n",
              "      <td>0</td>\n",
              "      <td>57871</td>\n",
              "      <td>16440</td>\n",
              "      <td>20500</td>\n",
              "      <td>10171</td>\n",
              "      <td>NaN</td>\n",
              "      <td>NaN</td>\n",
              "      <td>NaN</td>\n",
              "      <td>NaN</td>\n",
              "      <td>NaN</td>\n",
              "      <td>NaN</td>\n",
              "      <td>NaN</td>\n",
              "      <td>NaN</td>\n",
              "      <td>NaN</td>\n",
              "      <td>NaN</td>\n",
              "      <td>NaN</td>\n",
              "      <td>N</td>\n",
              "      <td>NaN</td>\n",
              "      <td>NaN</td>\n",
              "      <td>NaN</td>\n",
              "      <td>NaN</td>\n",
              "      <td>NaN</td>\n",
              "      <td>NaN</td>\n",
              "      <td>NaN</td>\n",
              "      <td>NaN</td>\n",
              "      <td>NaN</td>\n",
              "      <td>NaN</td>\n",
              "      <td>NaN</td>\n",
              "      <td>NaN</td>\n",
              "      <td>NaN</td>\n",
              "      <td>NaN</td>\n",
              "      <td>Cash</td>\n",
              "      <td>N</td>\n",
              "      <td>NaN</td>\n",
              "      <td>NaN</td>\n",
              "      <td>NaN</td>\n",
              "      <td>NaN</td>\n",
              "      <td>NaN</td>\n",
              "      <td>NaN</td>\n",
              "    </tr>\n",
              "    <tr>\n",
              "      <th>128411</th>\n",
              "      <td>NaN</td>\n",
              "      <td>NaN</td>\n",
              "      <td>10000</td>\n",
              "      <td>10000</td>\n",
              "      <td>10000.0</td>\n",
              "      <td>36 months</td>\n",
              "      <td>16.91%</td>\n",
              "      <td>356.08</td>\n",
              "      <td>C</td>\n",
              "      <td>C5</td>\n",
              "      <td>Key Accounts Manager</td>\n",
              "      <td>2 years</td>\n",
              "      <td>RENT</td>\n",
              "      <td>80000.0</td>\n",
              "      <td>Not Verified</td>\n",
              "      <td>Oct-2018</td>\n",
              "      <td>Current</td>\n",
              "      <td>n</td>\n",
              "      <td>NaN</td>\n",
              "      <td>NaN</td>\n",
              "      <td>other</td>\n",
              "      <td>Other</td>\n",
              "      <td>021xx</td>\n",
              "      <td>MA</td>\n",
              "      <td>17.72</td>\n",
              "      <td>1</td>\n",
              "      <td>Sep-2006</td>\n",
              "      <td>0</td>\n",
              "      <td>14.0</td>\n",
              "      <td>NaN</td>\n",
              "      <td>17</td>\n",
              "      <td>0</td>\n",
              "      <td>1942</td>\n",
              "      <td>30.8%</td>\n",
              "      <td>31</td>\n",
              "      <td>w</td>\n",
              "      <td>9120.98</td>\n",
              "      <td>9120.98</td>\n",
              "      <td>1414.93</td>\n",
              "      <td>1414.93</td>\n",
              "      <td>879.02</td>\n",
              "      <td>535.91</td>\n",
              "      <td>0.0</td>\n",
              "      <td>0.0</td>\n",
              "      <td>0.0</td>\n",
              "      <td>Feb-2019</td>\n",
              "      <td>356.08</td>\n",
              "      <td>Mar-2019</td>\n",
              "      <td>Feb-2019</td>\n",
              "      <td>0</td>\n",
              "      <td>25.0</td>\n",
              "      <td>1</td>\n",
              "      <td>Individual</td>\n",
              "      <td>NaN</td>\n",
              "      <td>NaN</td>\n",
              "      <td>NaN</td>\n",
              "      <td>0</td>\n",
              "      <td>0</td>\n",
              "      <td>59194</td>\n",
              "      <td>0</td>\n",
              "      <td>15</td>\n",
              "      <td>1</td>\n",
              "      <td>1</td>\n",
              "      <td>12.0</td>\n",
              "      <td>57252</td>\n",
              "      <td>85.0</td>\n",
              "      <td>0</td>\n",
              "      <td>0</td>\n",
              "      <td>1942</td>\n",
              "      <td>80.0</td>\n",
              "      <td>6300</td>\n",
              "      <td>0</td>\n",
              "      <td>5</td>\n",
              "      <td>0</td>\n",
              "      <td>1</td>\n",
              "      <td>3482.0</td>\n",
              "      <td>2058.0</td>\n",
              "      <td>48.5</td>\n",
              "      <td>0</td>\n",
              "      <td>0</td>\n",
              "      <td>144.0</td>\n",
              "      <td>142</td>\n",
              "      <td>40</td>\n",
              "      <td>12</td>\n",
              "      <td>0</td>\n",
              "      <td>131.0</td>\n",
              "      <td>30.0</td>\n",
              "      <td>NaN</td>\n",
              "      <td>30.0</td>\n",
              "      <td>3</td>\n",
              "      <td>1</td>\n",
              "      <td>1</td>\n",
              "      <td>1</td>\n",
              "      <td>5</td>\n",
              "      <td>22</td>\n",
              "      <td>2</td>\n",
              "      <td>9</td>\n",
              "      <td>1</td>\n",
              "      <td>17</td>\n",
              "      <td>0.0</td>\n",
              "      <td>0</td>\n",
              "      <td>0</td>\n",
              "      <td>1</td>\n",
              "      <td>74.2</td>\n",
              "      <td>0.0</td>\n",
              "      <td>0</td>\n",
              "      <td>0</td>\n",
              "      <td>73669</td>\n",
              "      <td>59194</td>\n",
              "      <td>4000</td>\n",
              "      <td>67369</td>\n",
              "      <td>NaN</td>\n",
              "      <td>NaN</td>\n",
              "      <td>NaN</td>\n",
              "      <td>NaN</td>\n",
              "      <td>NaN</td>\n",
              "      <td>NaN</td>\n",
              "      <td>NaN</td>\n",
              "      <td>NaN</td>\n",
              "      <td>NaN</td>\n",
              "      <td>NaN</td>\n",
              "      <td>NaN</td>\n",
              "      <td>N</td>\n",
              "      <td>NaN</td>\n",
              "      <td>NaN</td>\n",
              "      <td>NaN</td>\n",
              "      <td>NaN</td>\n",
              "      <td>NaN</td>\n",
              "      <td>NaN</td>\n",
              "      <td>NaN</td>\n",
              "      <td>NaN</td>\n",
              "      <td>NaN</td>\n",
              "      <td>NaN</td>\n",
              "      <td>NaN</td>\n",
              "      <td>NaN</td>\n",
              "      <td>NaN</td>\n",
              "      <td>NaN</td>\n",
              "      <td>Cash</td>\n",
              "      <td>N</td>\n",
              "      <td>NaN</td>\n",
              "      <td>NaN</td>\n",
              "      <td>NaN</td>\n",
              "      <td>NaN</td>\n",
              "      <td>NaN</td>\n",
              "      <td>NaN</td>\n",
              "    </tr>\n",
              "  </tbody>\n",
              "</table>\n",
              "</div>"
            ],
            "text/plain": [
              "        id  member_id  loan_amnt  funded_amnt  funded_amnt_inv        term  \\\n",
              "128407 NaN        NaN      23000        23000          23000.0   36 months   \n",
              "128408 NaN        NaN      10000        10000          10000.0   36 months   \n",
              "128409 NaN        NaN       5000         5000           5000.0   36 months   \n",
              "128410 NaN        NaN      10000        10000           9750.0   36 months   \n",
              "128411 NaN        NaN      10000        10000          10000.0   36 months   \n",
              "\n",
              "       int_rate  installment grade sub_grade             emp_title emp_length  \\\n",
              "128407   15.02%       797.53     C        C3        Tax Consultant  10+ years   \n",
              "128408   15.02%       346.76     C        C3        security guard    5 years   \n",
              "128409   13.56%       169.83     C        C1          Payoff Clerk  10+ years   \n",
              "128410   11.06%       327.68     B        B3                   NaN        NaN   \n",
              "128411   16.91%       356.08     C        C5  Key Accounts Manager    2 years   \n",
              "\n",
              "       home_ownership  annual_inc verification_status   issue_d  loan_status  \\\n",
              "128407       MORTGAGE     75000.0     Source Verified  Oct-2018  Charged Off   \n",
              "128408       MORTGAGE     38000.0        Not Verified  Oct-2018      Current   \n",
              "128409       MORTGAGE     35360.0        Not Verified  Oct-2018      Current   \n",
              "128410           RENT     44400.0     Source Verified  Oct-2018      Current   \n",
              "128411           RENT     80000.0        Not Verified  Oct-2018      Current   \n",
              "\n",
              "       pymnt_plan  url  desc             purpose                    title  \\\n",
              "128407          n  NaN   NaN  debt_consolidation       Debt consolidation   \n",
              "128408          n  NaN   NaN  debt_consolidation       Debt consolidation   \n",
              "128409          n  NaN   NaN  debt_consolidation       Debt consolidation   \n",
              "128410          n  NaN   NaN         credit_card  Credit card refinancing   \n",
              "128411          n  NaN   NaN               other                    Other   \n",
              "\n",
              "       zip_code addr_state    dti  delinq_2yrs earliest_cr_line  \\\n",
              "128407    352xx         AL  20.95            1         Aug-1985   \n",
              "128408    443xx         OH  13.16            3         Jul-1982   \n",
              "128409    381xx         TN  11.30            1         Jun-2006   \n",
              "128410    980xx         WA  11.78            0         Oct-2008   \n",
              "128411    021xx         MA  17.72            1         Sep-2006   \n",
              "\n",
              "        inq_last_6mths  mths_since_last_delinq  mths_since_last_record  \\\n",
              "128407               2                    22.0                     NaN   \n",
              "128408               0                     6.0                     NaN   \n",
              "128409               0                    21.0                     NaN   \n",
              "128410               2                    40.0                     NaN   \n",
              "128411               0                    14.0                     NaN   \n",
              "\n",
              "        open_acc  pub_rec  revol_bal revol_util  total_acc  \\\n",
              "128407        12        0      22465      43.6%         28   \n",
              "128408        11        0       5634      37.1%         16   \n",
              "128409         9        0       2597      27.3%         15   \n",
              "128410        15        0       6269      13.1%         25   \n",
              "128411        17        0       1942      30.8%         31   \n",
              "\n",
              "       initial_list_status  out_prncp  out_prncp_inv  total_pymnt  \\\n",
              "128407                   w       0.00           0.00      1547.08   \n",
              "128408                   w    9096.85        9096.85      1378.70   \n",
              "128409                   f    4538.94        4538.94       675.55   \n",
              "128410                   f    9044.84        8818.72      1295.36   \n",
              "128411                   w    9120.98        9120.98      1414.93   \n",
              "\n",
              "        total_pymnt_inv  total_rec_prncp  total_rec_int  total_rec_late_fee  \\\n",
              "128407          1547.08          1025.67         521.41                 0.0   \n",
              "128408          1378.70           903.15         475.55                 0.0   \n",
              "128409           675.55           461.06         214.49                 0.0   \n",
              "128410          1262.98           955.16         340.20                 0.0   \n",
              "128411          1414.93           879.02         535.91                 0.0   \n",
              "\n",
              "        recoveries  collection_recovery_fee last_pymnt_d  last_pymnt_amnt  \\\n",
              "128407         0.0                      0.0     Dec-2018           797.53   \n",
              "128408         0.0                      0.0     Feb-2019           346.76   \n",
              "128409         0.0                      0.0     Feb-2019           169.83   \n",
              "128410         0.0                      0.0     Feb-2019           327.68   \n",
              "128411         0.0                      0.0     Feb-2019           356.08   \n",
              "\n",
              "       next_pymnt_d last_credit_pull_d  collections_12_mths_ex_med  \\\n",
              "128407          NaN           Nov-2018                           0   \n",
              "128408     Mar-2019           Feb-2019                           0   \n",
              "128409     Mar-2019           Feb-2019                           0   \n",
              "128410     Mar-2019           Feb-2019                           0   \n",
              "128411     Mar-2019           Feb-2019                           0   \n",
              "\n",
              "        mths_since_last_major_derog  policy_code application_type  \\\n",
              "128407                          NaN            1       Individual   \n",
              "128408                          NaN            1       Individual   \n",
              "128409                          NaN            1       Individual   \n",
              "128410                         53.0            1       Individual   \n",
              "128411                         25.0            1       Individual   \n",
              "\n",
              "        annual_inc_joint  dti_joint verification_status_joint  acc_now_delinq  \\\n",
              "128407               NaN        NaN                       NaN               0   \n",
              "128408               NaN        NaN                       NaN               0   \n",
              "128409               NaN        NaN                       NaN               0   \n",
              "128410               NaN        NaN                       NaN               0   \n",
              "128411               NaN        NaN                       NaN               0   \n",
              "\n",
              "        tot_coll_amt  tot_cur_bal  open_acc_6m  open_act_il  open_il_12m  \\\n",
              "128407             0       259658            4            2            3   \n",
              "128408           155        77424            0            1            0   \n",
              "128409          1413        69785            0            2            0   \n",
              "128410           520        16440            3            1            1   \n",
              "128411             0        59194            0           15            1   \n",
              "\n",
              "        open_il_24m  mths_since_rcnt_il  total_bal_il  il_util  open_rv_12m  \\\n",
              "128407            3                 6.0         18149     86.0            4   \n",
              "128408            0                34.0           200     10.0            1   \n",
              "128409            1                16.0          2379     40.0            3   \n",
              "128410            1                 2.0         10171    100.0            2   \n",
              "128411            1                12.0         57252     85.0            0   \n",
              "\n",
              "        open_rv_24m  max_bal_bc  all_util  total_rev_hi_lim  inq_fi  \\\n",
              "128407            6       12843      56.0             51500       2   \n",
              "128408            1        1866      42.0             15200       2   \n",
              "128409            4        1826      32.0              9500       0   \n",
              "128410            5         404      28.0             47700       0   \n",
              "128411            0        1942      80.0              6300       0   \n",
              "\n",
              "        total_cu_tl  inq_last_12m  acc_open_past_24mths  avg_cur_bal  \\\n",
              "128407            2             5                    11      21638.0   \n",
              "128408            0             0                     2       7039.0   \n",
              "128409            0             1                     5       8723.0   \n",
              "128410            3             5                     6       1265.0   \n",
              "128411            5             0                     1       3482.0   \n",
              "\n",
              "        bc_open_to_buy  bc_util  chargeoff_within_12_mths  delinq_amnt  \\\n",
              "128407         26321.0     44.1                         0            0   \n",
              "128408          4537.0     50.1                         0            0   \n",
              "128409          1174.0     60.9                         0            0   \n",
              "128410         20037.0      2.3                         0            0   \n",
              "128411          2058.0     48.5                         0            0   \n",
              "\n",
              "        mo_sin_old_il_acct  mo_sin_old_rev_tl_op  mo_sin_rcnt_rev_tl_op  \\\n",
              "128407                12.0                   397                      4   \n",
              "128408                34.0                   434                     11   \n",
              "128409               147.0                    85                      9   \n",
              "128410                61.0                   119                      1   \n",
              "128411               144.0                   142                     40   \n",
              "\n",
              "        mo_sin_rcnt_tl  mort_acc  mths_since_recent_bc  \\\n",
              "128407               4         6                   5.0   \n",
              "128408              11         3                  11.0   \n",
              "128409               9         2                  10.0   \n",
              "128410               1         0                   1.0   \n",
              "128411              12         0                 131.0   \n",
              "\n",
              "        mths_since_recent_bc_dlq  mths_since_recent_inq  \\\n",
              "128407                      22.0                    4.0   \n",
              "128408                       6.0                   17.0   \n",
              "128409                      21.0                    9.0   \n",
              "128410                       NaN                    1.0   \n",
              "128411                      30.0                    NaN   \n",
              "\n",
              "        mths_since_recent_revol_delinq  num_accts_ever_120_pd  num_actv_bc_tl  \\\n",
              "128407                            22.0                      0               4   \n",
              "128408                             6.0                      0               3   \n",
              "128409                            21.0                      0               1   \n",
              "128410                            40.0                      1               2   \n",
              "128411                            30.0                      3               1   \n",
              "\n",
              "        num_actv_rev_tl  num_bc_sats  num_bc_tl  num_il_tl  num_op_rev_tl  \\\n",
              "128407                5            7         14          3              9   \n",
              "128408                5            5          6          1              8   \n",
              "128409                3            2          2          6              6   \n",
              "128410                4            6          8          3             14   \n",
              "128411                1            1          5         22              2   \n",
              "\n",
              "        num_rev_accts  num_rev_tl_bal_gt_0  num_sats  num_tl_120dpd_2m  \\\n",
              "128407             19                    5        12               0.0   \n",
              "128408             11                    5        11               0.0   \n",
              "128409              7                    3         9               0.0   \n",
              "128410             22                    4        15               0.0   \n",
              "128411              9                    1        17               0.0   \n",
              "\n",
              "        num_tl_30dpd  num_tl_90g_dpd_24m  num_tl_op_past_12m  pct_tl_nvr_dlq  \\\n",
              "128407             0                   0                   7            96.4   \n",
              "128408             0                   0                   1            73.3   \n",
              "128409             0                   0                   3            92.9   \n",
              "128410             0                   0                   3            92.0   \n",
              "128411             0                   0                   1            74.2   \n",
              "\n",
              "        percent_bc_gt_75  pub_rec_bankruptcies  tax_liens  tot_hi_cred_lim  \\\n",
              "128407              14.3                     0          0           296500   \n",
              "128408              40.0                     0          0            91403   \n",
              "128409              50.0                     0          0            93908   \n",
              "128410               0.0                     0          0            57871   \n",
              "128411               0.0                     0          0            73669   \n",
              "\n",
              "        total_bal_ex_mort  total_bc_limit  total_il_high_credit_limit  \\\n",
              "128407              40614           47100                       21000   \n",
              "128408               9323            9100                        2000   \n",
              "128409               4976            3000                        6028   \n",
              "128410              16440           20500                       10171   \n",
              "128411              59194            4000                       67369   \n",
              "\n",
              "        revol_bal_joint sec_app_earliest_cr_line  sec_app_inq_last_6mths  \\\n",
              "128407              NaN                      NaN                     NaN   \n",
              "128408              NaN                      NaN                     NaN   \n",
              "128409              NaN                      NaN                     NaN   \n",
              "128410              NaN                      NaN                     NaN   \n",
              "128411              NaN                      NaN                     NaN   \n",
              "\n",
              "        sec_app_mort_acc  sec_app_open_acc  sec_app_revol_util  \\\n",
              "128407               NaN               NaN                 NaN   \n",
              "128408               NaN               NaN                 NaN   \n",
              "128409               NaN               NaN                 NaN   \n",
              "128410               NaN               NaN                 NaN   \n",
              "128411               NaN               NaN                 NaN   \n",
              "\n",
              "        sec_app_open_act_il  sec_app_num_rev_accts  \\\n",
              "128407                  NaN                    NaN   \n",
              "128408                  NaN                    NaN   \n",
              "128409                  NaN                    NaN   \n",
              "128410                  NaN                    NaN   \n",
              "128411                  NaN                    NaN   \n",
              "\n",
              "        sec_app_chargeoff_within_12_mths  sec_app_collections_12_mths_ex_med  \\\n",
              "128407                               NaN                                 NaN   \n",
              "128408                               NaN                                 NaN   \n",
              "128409                               NaN                                 NaN   \n",
              "128410                               NaN                                 NaN   \n",
              "128411                               NaN                                 NaN   \n",
              "\n",
              "        sec_app_mths_since_last_major_derog hardship_flag hardship_type  \\\n",
              "128407                                  NaN             N           NaN   \n",
              "128408                                  NaN             N           NaN   \n",
              "128409                                  NaN             N           NaN   \n",
              "128410                                  NaN             N           NaN   \n",
              "128411                                  NaN             N           NaN   \n",
              "\n",
              "       hardship_reason hardship_status  deferral_term  hardship_amount  \\\n",
              "128407             NaN             NaN            NaN              NaN   \n",
              "128408             NaN             NaN            NaN              NaN   \n",
              "128409             NaN             NaN            NaN              NaN   \n",
              "128410             NaN             NaN            NaN              NaN   \n",
              "128411             NaN             NaN            NaN              NaN   \n",
              "\n",
              "       hardship_start_date hardship_end_date payment_plan_start_date  \\\n",
              "128407                 NaN               NaN                     NaN   \n",
              "128408                 NaN               NaN                     NaN   \n",
              "128409                 NaN               NaN                     NaN   \n",
              "128410                 NaN               NaN                     NaN   \n",
              "128411                 NaN               NaN                     NaN   \n",
              "\n",
              "        hardship_length  hardship_dpd hardship_loan_status  \\\n",
              "128407              NaN           NaN                  NaN   \n",
              "128408              NaN           NaN                  NaN   \n",
              "128409              NaN           NaN                  NaN   \n",
              "128410              NaN           NaN                  NaN   \n",
              "128411              NaN           NaN                  NaN   \n",
              "\n",
              "        orig_projected_additional_accrued_interest  \\\n",
              "128407                                         NaN   \n",
              "128408                                         NaN   \n",
              "128409                                         NaN   \n",
              "128410                                         NaN   \n",
              "128411                                         NaN   \n",
              "\n",
              "        hardship_payoff_balance_amount  hardship_last_payment_amount  \\\n",
              "128407                             NaN                           NaN   \n",
              "128408                             NaN                           NaN   \n",
              "128409                             NaN                           NaN   \n",
              "128410                             NaN                           NaN   \n",
              "128411                             NaN                           NaN   \n",
              "\n",
              "       disbursement_method debt_settlement_flag debt_settlement_flag_date  \\\n",
              "128407                Cash                    N                       NaN   \n",
              "128408                Cash                    N                       NaN   \n",
              "128409                Cash                    N                       NaN   \n",
              "128410                Cash                    N                       NaN   \n",
              "128411                Cash                    N                       NaN   \n",
              "\n",
              "       settlement_status settlement_date  settlement_amount  \\\n",
              "128407               NaN             NaN                NaN   \n",
              "128408               NaN             NaN                NaN   \n",
              "128409               NaN             NaN                NaN   \n",
              "128410               NaN             NaN                NaN   \n",
              "128411               NaN             NaN                NaN   \n",
              "\n",
              "        settlement_percentage  settlement_term  \n",
              "128407                    NaN              NaN  \n",
              "128408                    NaN              NaN  \n",
              "128409                    NaN              NaN  \n",
              "128410                    NaN              NaN  \n",
              "128411                    NaN              NaN  "
            ]
          },
          "metadata": {
            "tags": []
          },
          "execution_count": 9
        }
      ]
    },
    {
      "metadata": {
        "colab_type": "text",
        "id": "1b5_hMTio2Ly"
      },
      "cell_type": "markdown",
      "source": [
        "## Work with strings"
      ]
    },
    {
      "metadata": {
        "id": "n0STF3f8noA0",
        "colab_type": "text"
      },
      "cell_type": "markdown",
      "source": [
        "For machine learning, we usually want to replace strings with numbers.\n",
        "\n",
        "We can get info about which columns have a datatype of \"object\" (strings)"
      ]
    },
    {
      "metadata": {
        "colab_type": "code",
        "id": "WOL7QPVNo3F4",
        "colab": {
          "base_uri": "https://localhost:8080/",
          "height": 236
        },
        "outputId": "1e562127-49de-4934-e897-b23533654497"
      },
      "cell_type": "code",
      "source": [
        "df.describe(exclude ='number') #pandas doesn't do automatic conversion\n",
        "\n"
      ],
      "execution_count": 10,
      "outputs": [
        {
          "output_type": "execute_result",
          "data": {
            "text/html": [
              "<div>\n",
              "<style scoped>\n",
              "    .dataframe tbody tr th:only-of-type {\n",
              "        vertical-align: middle;\n",
              "    }\n",
              "\n",
              "    .dataframe tbody tr th {\n",
              "        vertical-align: top;\n",
              "    }\n",
              "\n",
              "    .dataframe thead th {\n",
              "        text-align: right;\n",
              "    }\n",
              "</style>\n",
              "<table border=\"1\" class=\"dataframe\">\n",
              "  <thead>\n",
              "    <tr style=\"text-align: right;\">\n",
              "      <th></th>\n",
              "      <th>term</th>\n",
              "      <th>int_rate</th>\n",
              "      <th>grade</th>\n",
              "      <th>sub_grade</th>\n",
              "      <th>emp_title</th>\n",
              "      <th>emp_length</th>\n",
              "      <th>home_ownership</th>\n",
              "      <th>verification_status</th>\n",
              "      <th>issue_d</th>\n",
              "      <th>loan_status</th>\n",
              "      <th>pymnt_plan</th>\n",
              "      <th>purpose</th>\n",
              "      <th>title</th>\n",
              "      <th>zip_code</th>\n",
              "      <th>addr_state</th>\n",
              "      <th>earliest_cr_line</th>\n",
              "      <th>revol_util</th>\n",
              "      <th>initial_list_status</th>\n",
              "      <th>last_pymnt_d</th>\n",
              "      <th>next_pymnt_d</th>\n",
              "      <th>last_credit_pull_d</th>\n",
              "      <th>application_type</th>\n",
              "      <th>verification_status_joint</th>\n",
              "      <th>sec_app_earliest_cr_line</th>\n",
              "      <th>hardship_flag</th>\n",
              "      <th>hardship_type</th>\n",
              "      <th>hardship_reason</th>\n",
              "      <th>hardship_status</th>\n",
              "      <th>hardship_start_date</th>\n",
              "      <th>hardship_end_date</th>\n",
              "      <th>payment_plan_start_date</th>\n",
              "      <th>hardship_loan_status</th>\n",
              "      <th>disbursement_method</th>\n",
              "      <th>debt_settlement_flag</th>\n",
              "      <th>debt_settlement_flag_date</th>\n",
              "      <th>settlement_status</th>\n",
              "      <th>settlement_date</th>\n",
              "    </tr>\n",
              "  </thead>\n",
              "  <tbody>\n",
              "    <tr>\n",
              "      <th>count</th>\n",
              "      <td>128412</td>\n",
              "      <td>128412</td>\n",
              "      <td>128412</td>\n",
              "      <td>128412</td>\n",
              "      <td>107465</td>\n",
              "      <td>116708</td>\n",
              "      <td>128412</td>\n",
              "      <td>128412</td>\n",
              "      <td>128412</td>\n",
              "      <td>128412</td>\n",
              "      <td>128412</td>\n",
              "      <td>128412</td>\n",
              "      <td>128412</td>\n",
              "      <td>128412</td>\n",
              "      <td>128412</td>\n",
              "      <td>128412</td>\n",
              "      <td>128256</td>\n",
              "      <td>128412</td>\n",
              "      <td>128250</td>\n",
              "      <td>124941</td>\n",
              "      <td>128411</td>\n",
              "      <td>128412</td>\n",
              "      <td>14848</td>\n",
              "      <td>16782</td>\n",
              "      <td>128412</td>\n",
              "      <td>1</td>\n",
              "      <td>1</td>\n",
              "      <td>1</td>\n",
              "      <td>1</td>\n",
              "      <td>1</td>\n",
              "      <td>1</td>\n",
              "      <td>1</td>\n",
              "      <td>128412</td>\n",
              "      <td>128412</td>\n",
              "      <td>2</td>\n",
              "      <td>2</td>\n",
              "      <td>2</td>\n",
              "    </tr>\n",
              "    <tr>\n",
              "      <th>unique</th>\n",
              "      <td>2</td>\n",
              "      <td>46</td>\n",
              "      <td>7</td>\n",
              "      <td>35</td>\n",
              "      <td>43892</td>\n",
              "      <td>11</td>\n",
              "      <td>4</td>\n",
              "      <td>3</td>\n",
              "      <td>3</td>\n",
              "      <td>6</td>\n",
              "      <td>2</td>\n",
              "      <td>12</td>\n",
              "      <td>12</td>\n",
              "      <td>880</td>\n",
              "      <td>50</td>\n",
              "      <td>644</td>\n",
              "      <td>1074</td>\n",
              "      <td>2</td>\n",
              "      <td>5</td>\n",
              "      <td>3</td>\n",
              "      <td>7</td>\n",
              "      <td>2</td>\n",
              "      <td>3</td>\n",
              "      <td>573</td>\n",
              "      <td>2</td>\n",
              "      <td>1</td>\n",
              "      <td>1</td>\n",
              "      <td>1</td>\n",
              "      <td>1</td>\n",
              "      <td>1</td>\n",
              "      <td>1</td>\n",
              "      <td>1</td>\n",
              "      <td>2</td>\n",
              "      <td>2</td>\n",
              "      <td>1</td>\n",
              "      <td>1</td>\n",
              "      <td>1</td>\n",
              "    </tr>\n",
              "    <tr>\n",
              "      <th>top</th>\n",
              "      <td>36 months</td>\n",
              "      <td>13.56%</td>\n",
              "      <td>A</td>\n",
              "      <td>A4</td>\n",
              "      <td>Teacher</td>\n",
              "      <td>10+ years</td>\n",
              "      <td>MORTGAGE</td>\n",
              "      <td>Not Verified</td>\n",
              "      <td>Oct-2018</td>\n",
              "      <td>Current</td>\n",
              "      <td>n</td>\n",
              "      <td>debt_consolidation</td>\n",
              "      <td>Debt consolidation</td>\n",
              "      <td>112xx</td>\n",
              "      <td>CA</td>\n",
              "      <td>Aug-2006</td>\n",
              "      <td>0%</td>\n",
              "      <td>w</td>\n",
              "      <td>Feb-2019</td>\n",
              "      <td>Mar-2019</td>\n",
              "      <td>Feb-2019</td>\n",
              "      <td>Individual</td>\n",
              "      <td>Not Verified</td>\n",
              "      <td>Aug-2006</td>\n",
              "      <td>N</td>\n",
              "      <td>INTEREST ONLY-3 MONTHS DEFERRAL</td>\n",
              "      <td>UNEMPLOYMENT</td>\n",
              "      <td>ACTIVE</td>\n",
              "      <td>Feb-2019</td>\n",
              "      <td>Apr-2019</td>\n",
              "      <td>Feb-2019</td>\n",
              "      <td>Late (16-30 days)</td>\n",
              "      <td>Cash</td>\n",
              "      <td>N</td>\n",
              "      <td>Feb-2019</td>\n",
              "      <td>ACTIVE</td>\n",
              "      <td>Feb-2019</td>\n",
              "    </tr>\n",
              "    <tr>\n",
              "      <th>freq</th>\n",
              "      <td>88179</td>\n",
              "      <td>6976</td>\n",
              "      <td>38011</td>\n",
              "      <td>9770</td>\n",
              "      <td>2090</td>\n",
              "      <td>38826</td>\n",
              "      <td>63490</td>\n",
              "      <td>58350</td>\n",
              "      <td>46305</td>\n",
              "      <td>123768</td>\n",
              "      <td>128411</td>\n",
              "      <td>70603</td>\n",
              "      <td>70603</td>\n",
              "      <td>1370</td>\n",
              "      <td>17879</td>\n",
              "      <td>1130</td>\n",
              "      <td>1132</td>\n",
              "      <td>114498</td>\n",
              "      <td>123797</td>\n",
              "      <td>124903</td>\n",
              "      <td>125061</td>\n",
              "      <td>111630</td>\n",
              "      <td>6360</td>\n",
              "      <td>155</td>\n",
              "      <td>128411</td>\n",
              "      <td>1</td>\n",
              "      <td>1</td>\n",
              "      <td>1</td>\n",
              "      <td>1</td>\n",
              "      <td>1</td>\n",
              "      <td>1</td>\n",
              "      <td>1</td>\n",
              "      <td>102516</td>\n",
              "      <td>128410</td>\n",
              "      <td>2</td>\n",
              "      <td>2</td>\n",
              "      <td>2</td>\n",
              "    </tr>\n",
              "  </tbody>\n",
              "</table>\n",
              "</div>"
            ],
            "text/plain": [
              "              term int_rate   grade sub_grade emp_title emp_length  \\\n",
              "count       128412   128412  128412    128412    107465     116708   \n",
              "unique           2       46       7        35     43892         11   \n",
              "top      36 months   13.56%       A        A4   Teacher  10+ years   \n",
              "freq         88179     6976   38011      9770      2090      38826   \n",
              "\n",
              "       home_ownership verification_status   issue_d loan_status pymnt_plan  \\\n",
              "count          128412              128412    128412      128412     128412   \n",
              "unique              4                   3         3           6          2   \n",
              "top          MORTGAGE        Not Verified  Oct-2018     Current          n   \n",
              "freq            63490               58350     46305      123768     128411   \n",
              "\n",
              "                   purpose               title zip_code addr_state  \\\n",
              "count               128412              128412   128412     128412   \n",
              "unique                  12                  12      880         50   \n",
              "top     debt_consolidation  Debt consolidation    112xx         CA   \n",
              "freq                 70603               70603     1370      17879   \n",
              "\n",
              "       earliest_cr_line revol_util initial_list_status last_pymnt_d  \\\n",
              "count            128412     128256              128412       128250   \n",
              "unique              644       1074                   2            5   \n",
              "top            Aug-2006         0%                   w     Feb-2019   \n",
              "freq               1130       1132              114498       123797   \n",
              "\n",
              "       next_pymnt_d last_credit_pull_d application_type  \\\n",
              "count        124941             128411           128412   \n",
              "unique            3                  7                2   \n",
              "top        Mar-2019           Feb-2019       Individual   \n",
              "freq         124903             125061           111630   \n",
              "\n",
              "       verification_status_joint sec_app_earliest_cr_line hardship_flag  \\\n",
              "count                      14848                    16782        128412   \n",
              "unique                         3                      573             2   \n",
              "top                 Not Verified                 Aug-2006             N   \n",
              "freq                        6360                      155        128411   \n",
              "\n",
              "                          hardship_type hardship_reason hardship_status  \\\n",
              "count                                 1               1               1   \n",
              "unique                                1               1               1   \n",
              "top     INTEREST ONLY-3 MONTHS DEFERRAL    UNEMPLOYMENT          ACTIVE   \n",
              "freq                                  1               1               1   \n",
              "\n",
              "       hardship_start_date hardship_end_date payment_plan_start_date  \\\n",
              "count                    1                 1                       1   \n",
              "unique                   1                 1                       1   \n",
              "top               Feb-2019          Apr-2019                Feb-2019   \n",
              "freq                     1                 1                       1   \n",
              "\n",
              "       hardship_loan_status disbursement_method debt_settlement_flag  \\\n",
              "count                     1              128412               128412   \n",
              "unique                    1                   2                    2   \n",
              "top       Late (16-30 days)                Cash                    N   \n",
              "freq                      1              102516               128410   \n",
              "\n",
              "       debt_settlement_flag_date settlement_status settlement_date  \n",
              "count                          2                 2               2  \n",
              "unique                         1                 1               1  \n",
              "top                     Feb-2019            ACTIVE        Feb-2019  \n",
              "freq                           2                 2               2  "
            ]
          },
          "metadata": {
            "tags": []
          },
          "execution_count": 10
        }
      ]
    },
    {
      "metadata": {
        "id": "8fPD8j9CnoA3",
        "colab_type": "text"
      },
      "cell_type": "markdown",
      "source": [
        "### Convert `int_rate`\n",
        "\n",
        "Define a function to remove percent signs from strings and convert to floats"
      ]
    },
    {
      "metadata": {
        "id": "GbDjMfDUIHBg",
        "colab_type": "text"
      },
      "cell_type": "markdown",
      "source": [
        "**"
      ]
    },
    {
      "metadata": {
        "id": "3FMVfYXaIFqu",
        "colab_type": "code",
        "colab": {
          "base_uri": "https://localhost:8080/",
          "height": 34
        },
        "outputId": "536b4a9e-3bb8-421d-feae-1ad05ff33f97"
      },
      "cell_type": "code",
      "source": [
        "'13.56%'.strip('%') #you can strip signs and $ signs as well to convert things to numbers\n",
        "\n"
      ],
      "execution_count": 11,
      "outputs": [
        {
          "output_type": "execute_result",
          "data": {
            "text/plain": [
              "'13.56'"
            ]
          },
          "metadata": {
            "tags": []
          },
          "execution_count": 11
        }
      ]
    },
    {
      "metadata": {
        "id": "ql6UfEggnoA4",
        "colab_type": "code",
        "colab": {
          "base_uri": "https://localhost:8080/",
          "height": 34
        },
        "outputId": "ed1f3a04-fe83-4a23-b6ee-779288b20691"
      },
      "cell_type": "code",
      "source": [
        "type('13.56%'.strip('%'))"
      ],
      "execution_count": 12,
      "outputs": [
        {
          "output_type": "execute_result",
          "data": {
            "text/plain": [
              "str"
            ]
          },
          "metadata": {
            "tags": []
          },
          "execution_count": 12
        }
      ]
    },
    {
      "metadata": {
        "id": "vy_0EWlKIl5U",
        "colab_type": "text"
      },
      "cell_type": "markdown",
      "source": [
        "and now we can convert it into a float\n"
      ]
    },
    {
      "metadata": {
        "id": "ruyEHQ0yIjys",
        "colab_type": "code",
        "colab": {
          "base_uri": "https://localhost:8080/",
          "height": 34
        },
        "outputId": "b8f3d9a8-5b14-4205-e4f0-09f7b138128e"
      },
      "cell_type": "code",
      "source": [
        "type(float(13.56))"
      ],
      "execution_count": 13,
      "outputs": [
        {
          "output_type": "execute_result",
          "data": {
            "text/plain": [
              "float"
            ]
          },
          "metadata": {
            "tags": []
          },
          "execution_count": 13
        }
      ]
    },
    {
      "metadata": {
        "id": "vQniY5iKIs16",
        "colab_type": "text"
      },
      "cell_type": "markdown",
      "source": [
        "HOw to do it with pandas inside a  series??"
      ]
    },
    {
      "metadata": {
        "id": "KWcBFi2OI0-F",
        "colab_type": "code",
        "colab": {}
      },
      "cell_type": "code",
      "source": [
        "df['int_rate'] = df['int_rate'].str.strip('%').astype(float).head() #this we setting the column\n",
        "#equal to this command changes the column in the dataframe as well and if we run\n",
        " #df['int_rate'].head(), it would show that it is a float"
      ],
      "execution_count": 0,
      "outputs": []
    },
    {
      "metadata": {
        "id": "0tPg7GTmI7bo",
        "colab_type": "text"
      },
      "cell_type": "markdown",
      "source": [
        "But it is still an object, so we use astype(float)"
      ]
    },
    {
      "metadata": {
        "id": "2ki-WmcmI9fs",
        "colab_type": "code",
        "colab": {
          "base_uri": "https://localhost:8080/",
          "height": 118
        },
        "outputId": "99fb1e5d-1a56-40c3-e74a-4c7cf9d599ee"
      },
      "cell_type": "code",
      "source": [
        "(df['int_rate'].head() /100).head() #this is if we want this to run from 0 to 1 instead of 0 to 100"
      ],
      "execution_count": 15,
      "outputs": [
        {
          "output_type": "execute_result",
          "data": {
            "text/plain": [
              "0    0.1356\n",
              "1    0.1894\n",
              "2    0.1797\n",
              "3    0.1894\n",
              "4    0.1614\n",
              "Name: int_rate, dtype: float64"
            ]
          },
          "metadata": {
            "tags": []
          },
          "execution_count": 15
        }
      ]
    },
    {
      "metadata": {
        "id": "vk4BOIqQK8-r",
        "colab_type": "text"
      },
      "cell_type": "markdown",
      "source": [
        "Define a function to remove percent signs from string and convert to floats"
      ]
    },
    {
      "metadata": {
        "id": "bp794rXTK4L-",
        "colab_type": "code",
        "colab": {
          "base_uri": "https://localhost:8080/",
          "height": 34
        },
        "outputId": "712adb4f-71fc-4314-a5dc-84372af98cf8"
      },
      "cell_type": "code",
      "source": [
        "string = '13.56%' #reload data so that interest rate is again in % from\n",
        "\n",
        "def remove_percent(string):\n",
        "  return float(string.strip('%'))\n",
        "\n",
        "remove_percent(string)"
      ],
      "execution_count": 16,
      "outputs": [
        {
          "output_type": "execute_result",
          "data": {
            "text/plain": [
              "13.56"
            ]
          },
          "metadata": {
            "tags": []
          },
          "execution_count": 16
        }
      ]
    },
    {
      "metadata": {
        "id": "E8kX-UEanoA5",
        "colab_type": "text"
      },
      "cell_type": "markdown",
      "source": [
        "Apply the function to the `int_rate` column"
      ]
    },
    {
      "metadata": {
        "id": "HG96RgdAnoA6",
        "colab_type": "code",
        "colab": {
          "base_uri": "https://localhost:8080/",
          "height": 430
        },
        "outputId": "380ef9b4-b9f1-40da-8103-bc5b99276f62"
      },
      "cell_type": "code",
      "source": [
        "df['int_rate'] = df['int_rate'].apply(remove_percent).head(20)"
      ],
      "execution_count": 17,
      "outputs": [
        {
          "output_type": "error",
          "ename": "AttributeError",
          "evalue": "ignored",
          "traceback": [
            "\u001b[0;31m---------------------------------------------------------------------------\u001b[0m",
            "\u001b[0;31mAttributeError\u001b[0m                            Traceback (most recent call last)",
            "\u001b[0;32m<ipython-input-17-a63fb4dddb70>\u001b[0m in \u001b[0;36m<module>\u001b[0;34m()\u001b[0m\n\u001b[0;32m----> 1\u001b[0;31m \u001b[0mdf\u001b[0m\u001b[0;34m[\u001b[0m\u001b[0;34m'int_rate'\u001b[0m\u001b[0;34m]\u001b[0m \u001b[0;34m=\u001b[0m \u001b[0mdf\u001b[0m\u001b[0;34m[\u001b[0m\u001b[0;34m'int_rate'\u001b[0m\u001b[0;34m]\u001b[0m\u001b[0;34m.\u001b[0m\u001b[0mapply\u001b[0m\u001b[0;34m(\u001b[0m\u001b[0mremove_percent\u001b[0m\u001b[0;34m)\u001b[0m\u001b[0;34m.\u001b[0m\u001b[0mhead\u001b[0m\u001b[0;34m(\u001b[0m\u001b[0;36m20\u001b[0m\u001b[0;34m)\u001b[0m\u001b[0;34m\u001b[0m\u001b[0;34m\u001b[0m\u001b[0m\n\u001b[0m",
            "\u001b[0;32m/usr/local/lib/python3.6/dist-packages/pandas/core/series.py\u001b[0m in \u001b[0;36mapply\u001b[0;34m(self, func, convert_dtype, args, **kwds)\u001b[0m\n\u001b[1;32m   2549\u001b[0m             \u001b[0;32melse\u001b[0m\u001b[0;34m:\u001b[0m\u001b[0;34m\u001b[0m\u001b[0;34m\u001b[0m\u001b[0m\n\u001b[1;32m   2550\u001b[0m                 \u001b[0mvalues\u001b[0m \u001b[0;34m=\u001b[0m \u001b[0mself\u001b[0m\u001b[0;34m.\u001b[0m\u001b[0masobject\u001b[0m\u001b[0;34m\u001b[0m\u001b[0;34m\u001b[0m\u001b[0m\n\u001b[0;32m-> 2551\u001b[0;31m                 \u001b[0mmapped\u001b[0m \u001b[0;34m=\u001b[0m \u001b[0mlib\u001b[0m\u001b[0;34m.\u001b[0m\u001b[0mmap_infer\u001b[0m\u001b[0;34m(\u001b[0m\u001b[0mvalues\u001b[0m\u001b[0;34m,\u001b[0m \u001b[0mf\u001b[0m\u001b[0;34m,\u001b[0m \u001b[0mconvert\u001b[0m\u001b[0;34m=\u001b[0m\u001b[0mconvert_dtype\u001b[0m\u001b[0;34m)\u001b[0m\u001b[0;34m\u001b[0m\u001b[0;34m\u001b[0m\u001b[0m\n\u001b[0m\u001b[1;32m   2552\u001b[0m \u001b[0;34m\u001b[0m\u001b[0m\n\u001b[1;32m   2553\u001b[0m         \u001b[0;32mif\u001b[0m \u001b[0mlen\u001b[0m\u001b[0;34m(\u001b[0m\u001b[0mmapped\u001b[0m\u001b[0;34m)\u001b[0m \u001b[0;32mand\u001b[0m \u001b[0misinstance\u001b[0m\u001b[0;34m(\u001b[0m\u001b[0mmapped\u001b[0m\u001b[0;34m[\u001b[0m\u001b[0;36m0\u001b[0m\u001b[0;34m]\u001b[0m\u001b[0;34m,\u001b[0m \u001b[0mSeries\u001b[0m\u001b[0;34m)\u001b[0m\u001b[0;34m:\u001b[0m\u001b[0;34m\u001b[0m\u001b[0;34m\u001b[0m\u001b[0m\n",
            "\u001b[0;32mpandas/_libs/src/inference.pyx\u001b[0m in \u001b[0;36mpandas._libs.lib.map_infer\u001b[0;34m()\u001b[0m\n",
            "\u001b[0;32m<ipython-input-16-45647a5ea67e>\u001b[0m in \u001b[0;36mremove_percent\u001b[0;34m(string)\u001b[0m\n\u001b[1;32m      2\u001b[0m \u001b[0;34m\u001b[0m\u001b[0m\n\u001b[1;32m      3\u001b[0m \u001b[0;32mdef\u001b[0m \u001b[0mremove_percent\u001b[0m\u001b[0;34m(\u001b[0m\u001b[0mstring\u001b[0m\u001b[0;34m)\u001b[0m\u001b[0;34m:\u001b[0m\u001b[0;34m\u001b[0m\u001b[0;34m\u001b[0m\u001b[0m\n\u001b[0;32m----> 4\u001b[0;31m   \u001b[0;32mreturn\u001b[0m \u001b[0mfloat\u001b[0m\u001b[0;34m(\u001b[0m\u001b[0mstring\u001b[0m\u001b[0;34m.\u001b[0m\u001b[0mstrip\u001b[0m\u001b[0;34m(\u001b[0m\u001b[0;34m'%'\u001b[0m\u001b[0;34m)\u001b[0m\u001b[0;34m)\u001b[0m\u001b[0;34m\u001b[0m\u001b[0;34m\u001b[0m\u001b[0m\n\u001b[0m\u001b[1;32m      5\u001b[0m \u001b[0;34m\u001b[0m\u001b[0m\n\u001b[1;32m      6\u001b[0m \u001b[0mremove_percent\u001b[0m\u001b[0;34m(\u001b[0m\u001b[0mstring\u001b[0m\u001b[0;34m)\u001b[0m\u001b[0;34m\u001b[0m\u001b[0;34m\u001b[0m\u001b[0m\n",
            "\u001b[0;31mAttributeError\u001b[0m: 'float' object has no attribute 'strip'"
          ]
        }
      ]
    },
    {
      "metadata": {
        "id": "7xLN6mWNnoA8",
        "colab_type": "text"
      },
      "cell_type": "markdown",
      "source": [
        "### Clean `emp_title`\n",
        "\n",
        "Look at top 20 titles"
      ]
    },
    {
      "metadata": {
        "id": "_4BOZv1EnoA8",
        "colab_type": "code",
        "colab": {}
      },
      "cell_type": "code",
      "source": [
        "df['emp_title'].value_counts().head(20) #counts all the teachers, managers, registered nurses etc.\n"
      ],
      "execution_count": 0,
      "outputs": []
    },
    {
      "metadata": {
        "id": "gRbPEg82NNYv",
        "colab_type": "code",
        "colab": {}
      },
      "cell_type": "code",
      "source": [
        "df['emp_title'].isnull().sum()"
      ],
      "execution_count": 0,
      "outputs": []
    },
    {
      "metadata": {
        "id": "3dtS1APKnoA-",
        "colab_type": "text"
      },
      "cell_type": "markdown",
      "source": [
        "How often is `emp_title` null?"
      ]
    },
    {
      "metadata": {
        "id": "j7riRff_noA_",
        "colab_type": "code",
        "colab": {}
      },
      "cell_type": "code",
      "source": [
        ""
      ],
      "execution_count": 0,
      "outputs": []
    },
    {
      "metadata": {
        "id": "rVGF4g_KnoBA",
        "colab_type": "text"
      },
      "cell_type": "markdown",
      "source": [
        "Clean the title and handle missing values"
      ]
    },
    {
      "metadata": {
        "id": "W6CQvl7xnoBB",
        "colab_type": "code",
        "colab": {}
      },
      "cell_type": "code",
      "source": [
        "import numpy as np\n",
        "\n",
        "examples = ['owner', 'Supervisor',\n",
        "           ' Project Manager', np.nan]\n",
        "  #if we already ran it, the next cell would give an error because we already converted it to float??"
      ],
      "execution_count": 0,
      "outputs": []
    },
    {
      "metadata": {
        "id": "qlqtTQ-bOfoC",
        "colab_type": "code",
        "colab": {}
      },
      "cell_type": "code",
      "source": [
        "def clean_title(x):\n",
        "  if isinstance(x, str):\n",
        "    return x.strip().title()\n",
        "  else:\n",
        "    return 'Unknown'\n",
        "  \n",
        "[clean_title(x) for x in examples]"
      ],
      "execution_count": 0,
      "outputs": []
    },
    {
      "metadata": {
        "id": "LMy7GcBmnoBE",
        "colab_type": "text"
      },
      "cell_type": "markdown",
      "source": [
        "### Create `emp_title_manager`\n",
        "\n",
        "pandas documentation: [`str.contains`](https://pandas.pydata.org/pandas-docs/stable/generated/pandas.Series.str.contains.html)"
      ]
    },
    {
      "metadata": {
        "id": "0Enlc-71noBE",
        "colab_type": "code",
        "colab": {}
      },
      "cell_type": "code",
      "source": [
        "df['emp_title'].apply(clean_title).head(10) #number 9 has been replaced with Unknown so that there\n",
        "#is no NaN now"
      ],
      "execution_count": 0,
      "outputs": []
    },
    {
      "metadata": {
        "id": "7trfCtcbPtbh",
        "colab_type": "code",
        "colab": {}
      },
      "cell_type": "code",
      "source": [
        "df['emp_title'].value_counts().head(20)"
      ],
      "execution_count": 0,
      "outputs": []
    },
    {
      "metadata": {
        "id": "peZcXArRUhIU",
        "colab_type": "code",
        "colab": {}
      },
      "cell_type": "code",
      "source": [
        "df.groupby('emp_title_manager')('int_rate').mean()"
      ],
      "execution_count": 0,
      "outputs": []
    },
    {
      "metadata": {
        "colab_type": "text",
        "id": "s8BcCY6so3by"
      },
      "cell_type": "markdown",
      "source": [
        "## Work with dates"
      ]
    },
    {
      "metadata": {
        "id": "-_e35d_VnoBH",
        "colab_type": "text"
      },
      "cell_type": "markdown",
      "source": [
        "pandas documentation\n",
        "- [to_datetime](https://pandas.pydata.org/pandas-docs/stable/generated/pandas.to_datetime.html)\n",
        "- [Time/Date Components](https://pandas.pydata.org/pandas-docs/stable/timeseries.html#time-date-components) \"You can access these properties via the `.dt` accessor\""
      ]
    },
    {
      "metadata": {
        "id": "SbNCh30jWADo",
        "colab_type": "code",
        "colab": {}
      },
      "cell_type": "code",
      "source": [
        "df.isnull().sum().sort_values(ascending=False) / len(df)"
      ],
      "execution_count": 0,
      "outputs": []
    },
    {
      "metadata": {
        "colab_type": "code",
        "id": "kNrKxOTeo4W3",
        "colab": {}
      },
      "cell_type": "code",
      "source": [
        "df['issue_d'].head()"
      ],
      "execution_count": 0,
      "outputs": []
    },
    {
      "metadata": {
        "id": "LJWGdz4qWV0Z",
        "colab_type": "code",
        "colab": {}
      },
      "cell_type": "code",
      "source": [
        "df['issue_d'] = pd.to_datetime(df['issue_d'])"
      ],
      "execution_count": 0,
      "outputs": []
    },
    {
      "metadata": {
        "id": "yJWoN5D4XGWg",
        "colab_type": "code",
        "colab": {}
      },
      "cell_type": "code",
      "source": [
        "df['issue_d'].head(10).values"
      ],
      "execution_count": 0,
      "outputs": []
    },
    {
      "metadata": {
        "id": "eHNkaiCGYURn",
        "colab_type": "code",
        "colab": {}
      },
      "cell_type": "code",
      "source": [
        "df['issue_month'] = df['issue_d'].dt.month"
      ],
      "execution_count": 0,
      "outputs": []
    },
    {
      "metadata": {
        "id": "_uqsBU5l-b3L",
        "colab_type": "code",
        "colab": {}
      },
      "cell_type": "code",
      "source": [
        "df['issue_month'].head"
      ],
      "execution_count": 0,
      "outputs": []
    },
    {
      "metadata": {
        "id": "0lrRjbOUY4rs",
        "colab_type": "code",
        "colab": {}
      },
      "cell_type": "code",
      "source": [
        "df['earliest_cr_line'] = pd.to_datetime(df['earliest_cr_line'],\n",
        "                                       infer_datetime_format=True)"
      ],
      "execution_count": 0,
      "outputs": []
    },
    {
      "metadata": {
        "id": "GKdQpchFZC__",
        "colab_type": "code",
        "colab": {}
      },
      "cell_type": "code",
      "source": [
        "df['earliest_cr_line'].head().values"
      ],
      "execution_count": 0,
      "outputs": []
    },
    {
      "metadata": {
        "id": "VZZSrgZLZ-RB",
        "colab_type": "code",
        "colab": {}
      },
      "cell_type": "code",
      "source": [
        "df['days_from_earliest_credit_to_issue'] = (df['issue_d'] - df['earliest_cr_line']).dt.days"
      ],
      "execution_count": 0,
      "outputs": []
    },
    {
      "metadata": {
        "id": "B8ad-QSbaOeU",
        "colab_type": "code",
        "colab": {}
      },
      "cell_type": "code",
      "source": [
        "df['days_from_earliest_credit_to_issue'].describe()"
      ],
      "execution_count": 0,
      "outputs": []
    },
    {
      "metadata": {
        "id": "Bau696moaUC5",
        "colab_type": "code",
        "colab": {}
      },
      "cell_type": "code",
      "source": [
        "25171/365"
      ],
      "execution_count": 0,
      "outputs": []
    },
    {
      "metadata": {
        "id": "cwjrOJO8aW14",
        "colab_type": "code",
        "colab": {}
      },
      "cell_type": "code",
      "source": [
        "1126/365"
      ],
      "execution_count": 0,
      "outputs": []
    },
    {
      "metadata": {
        "id": "a4TZfrkPaa7z",
        "colab_type": "code",
        "colab": {}
      },
      "cell_type": "code",
      "source": [
        "5859/365"
      ],
      "execution_count": 0,
      "outputs": []
    },
    {
      "metadata": {
        "id": "TcG3LrYKnoBJ",
        "colab_type": "text"
      },
      "cell_type": "markdown",
      "source": [
        "# ASSIGNMENT\n",
        "\n",
        "- Replicate the lesson code.\n",
        "\n",
        "- Convert the `term` column from string to integer.\n",
        "\n",
        "- Make a column named `loan_status_is_great`. It should contain the integer 1 if `loan_status` is \"Current\" or \"Fully Paid.\" Else it should contain the integer 0.\n",
        "\n",
        "- Make `last_pymnt_d_month` and `last_pymnt_d_year` columns."
      ]
    },
    {
      "metadata": {
        "id": "1n1y0RHh1I2C",
        "colab_type": "code",
        "colab": {
          "base_uri": "https://localhost:8080/",
          "height": 202
        },
        "outputId": "4fa37395-1f11-4511-fed0-a7fc21bf5a10"
      },
      "cell_type": "code",
      "source": [
        "!wget https://resources.lendingclub.com/LoanStats_2018Q4.csv.zip"
      ],
      "execution_count": 41,
      "outputs": [
        {
          "output_type": "stream",
          "text": [
            "--2019-03-28 23:09:16--  https://resources.lendingclub.com/LoanStats_2018Q4.csv.zip\n",
            "Resolving resources.lendingclub.com (resources.lendingclub.com)... 64.48.1.20\n",
            "Connecting to resources.lendingclub.com (resources.lendingclub.com)|64.48.1.20|:443... connected.\n",
            "HTTP request sent, awaiting response... 200 OK\n",
            "Length: unspecified [application/zip]\n",
            "Saving to: ‘LoanStats_2018Q4.csv.zip.2’\n",
            "\n",
            "LoanStats_2018Q4.cs     [               <=>  ]  21.29M   889KB/s    in 25s     \n",
            "\n",
            "2019-03-28 23:09:42 (870 KB/s) - ‘LoanStats_2018Q4.csv.zip.2’ saved [22329081]\n",
            "\n"
          ],
          "name": "stdout"
        }
      ]
    },
    {
      "metadata": {
        "id": "7DiCdkUf1IzX",
        "colab_type": "code",
        "colab": {}
      },
      "cell_type": "code",
      "source": [
        "import pandas as pd\n",
        "\n",
        "df = pd.read_csv('LoanStats_2018Q4.csv', skiprows=1, skipfooter=2) #"
      ],
      "execution_count": 0,
      "outputs": []
    },
    {
      "metadata": {
        "id": "PpGYNVzO1IwU",
        "colab_type": "code",
        "colab": {}
      },
      "cell_type": "code",
      "source": [
        "!tail LoanStats_2018Q4.csv "
      ],
      "execution_count": 0,
      "outputs": []
    },
    {
      "metadata": {
        "id": "0H8iv5tG1IuL",
        "colab_type": "code",
        "colab": {}
      },
      "cell_type": "code",
      "source": [
        "df['int_rate'] = df['int_rate'].str.strip('%').astype(float).head()"
      ],
      "execution_count": 0,
      "outputs": []
    },
    {
      "metadata": {
        "id": "KbEjG_XB28Tn",
        "colab_type": "code",
        "colab": {}
      },
      "cell_type": "code",
      "source": [
        "df['term'] = df['term'].str.strip(' months').astype(float)\n",
        "\n",
        "df['term']"
      ],
      "execution_count": 0,
      "outputs": []
    },
    {
      "metadata": {
        "id": "I2eUEmLT7EVb",
        "colab_type": "code",
        "colab": {}
      },
      "cell_type": "code",
      "source": [
        "df['loan_status'].value_counts()"
      ],
      "execution_count": 0,
      "outputs": []
    },
    {
      "metadata": {
        "id": "Z3tLtXwm2rqY",
        "colab_type": "text"
      },
      "cell_type": "markdown",
      "source": [
        "**Convert the term column in to float**\n",
        "\n",
        "- "
      ]
    },
    {
      "metadata": {
        "id": "HxZXnsU7536m",
        "colab_type": "code",
        "colab": {}
      },
      "cell_type": "code",
      "source": [
        "df['loan_status'].tolist()"
      ],
      "execution_count": 0,
      "outputs": []
    },
    {
      "metadata": {
        "id": "8J0MfQa41Iri",
        "colab_type": "code",
        "colab": {}
      },
      "cell_type": "code",
      "source": [
        "df['loan_status_is_great'] = df['loan_status'].map({'Current':1, 'Fully Paid':1, 'Late (31-120 days)':0, 'In Grade Period':0, 'Late (16-30 days)':0, 'Charged Off':0})\n",
        "\n"
      ],
      "execution_count": 0,
      "outputs": []
    },
    {
      "metadata": {
        "id": "sb7yMuDr6JID",
        "colab_type": "code",
        "colab": {}
      },
      "cell_type": "code",
      "source": [
        "df['loan_status_is_great'].head(0)"
      ],
      "execution_count": 0,
      "outputs": []
    },
    {
      "metadata": {
        "id": "sbaRvKKK7bsq",
        "colab_type": "text"
      },
      "cell_type": "markdown",
      "source": [
        "So I cheated a little bit where I used value_counts() to get the names of the other variables in the column but what do we do if we can only use else...?"
      ]
    },
    {
      "metadata": {
        "id": "TCP3eAjA7ovE",
        "colab_type": "text"
      },
      "cell_type": "markdown",
      "source": [
        "**last_paymen_d_month** \n",
        "- make two columns : 'last_payment_d_month\n",
        "- make 'column: 'last_payment_d_year'"
      ]
    },
    {
      "metadata": {
        "id": "a1BPIpdX8Ebs",
        "colab_type": "code",
        "colab": {}
      },
      "cell_type": "code",
      "source": [
        "df.head()"
      ],
      "execution_count": 0,
      "outputs": []
    },
    {
      "metadata": {
        "id": "R-6_HlU5-pTE",
        "colab_type": "code",
        "colab": {}
      },
      "cell_type": "code",
      "source": [
        "df['last_pymnt_d'] = pd.to_datetime(df['last_pymnt_d'])"
      ],
      "execution_count": 0,
      "outputs": []
    },
    {
      "metadata": {
        "id": "ug5C_rp_-pPJ",
        "colab_type": "code",
        "colab": {}
      },
      "cell_type": "code",
      "source": [
        "df['last_payment_d_month'] = df['last_pymnt_d'].dt.month"
      ],
      "execution_count": 0,
      "outputs": []
    },
    {
      "metadata": {
        "id": "nNvKY872_Kka",
        "colab_type": "code",
        "colab": {}
      },
      "cell_type": "code",
      "source": [
        "df['last_payment_d_month']"
      ],
      "execution_count": 0,
      "outputs": []
    },
    {
      "metadata": {
        "id": "XkJNcmcg_PbA",
        "colab_type": "code",
        "colab": {}
      },
      "cell_type": "code",
      "source": [
        "df.shape"
      ],
      "execution_count": 0,
      "outputs": []
    },
    {
      "metadata": {
        "id": "45O2z8Z88Svw",
        "colab_type": "code",
        "colab": {}
      },
      "cell_type": "code",
      "source": [
        "df['last_payment_d_year'] = df['last_pymnt_d'].dt.year\n",
        "\n"
      ],
      "execution_count": 0,
      "outputs": []
    },
    {
      "metadata": {
        "id": "kdvyNmsO_W1_",
        "colab_type": "code",
        "colab": {}
      },
      "cell_type": "code",
      "source": [
        "df['last_payment_d_year']"
      ],
      "execution_count": 0,
      "outputs": []
    },
    {
      "metadata": {
        "id": "_IJWu4iw_bJ2",
        "colab_type": "code",
        "colab": {}
      },
      "cell_type": "code",
      "source": [
        "df.shape"
      ],
      "execution_count": 0,
      "outputs": []
    },
    {
      "metadata": {
        "id": "sQjO3cSS1IWm",
        "colab_type": "code",
        "colab": {}
      },
      "cell_type": "code",
      "source": [
        ""
      ],
      "execution_count": 0,
      "outputs": []
    },
    {
      "metadata": {
        "colab_type": "text",
        "id": "L8k0LiHmo5EU"
      },
      "cell_type": "markdown",
      "source": [
        "# STRETCH OPTIONS\n",
        "\n",
        "You can do more with the LendingClub or Instacart datasets.\n",
        "\n",
        "LendingClub options:\n",
        "- There's one other column in the dataframe with percent signs. Remove them and convert to floats. You'll need to handle missing values.\n",
        "- Modify the `emp_title` column to replace titles with 'Other' if the title is not in the top 20. \n",
        "- Take initiatve and work on your own ideas!\n",
        "\n",
        "Instacart options:\n",
        "- Read [Instacart Market Basket Analysis, Winner's Interview: 2nd place, Kazuki Onodera](http://blog.kaggle.com/2017/09/21/instacart-market-basket-analysis-winners-interview-2nd-place-kazuki-onodera/), especially the **Feature Engineering** section. (Can you choose one feature from his bulleted lists, and try to engineer it with pandas code?)\n",
        "- Read and replicate parts of [Simple Exploration Notebook - Instacart](https://www.kaggle.com/sudalairajkumar/simple-exploration-notebook-instacart). (It's the Python Notebook with the most upvotes for this Kaggle competition.)\n",
        "- Take initiative and work on your own ideas!"
      ]
    },
    {
      "metadata": {
        "colab_type": "text",
        "id": "0_7PXF7lpEXg"
      },
      "cell_type": "markdown",
      "source": [
        "You can uncomment and run the cells below to re-download and extract the Instacart data"
      ]
    },
    {
      "metadata": {
        "id": "M2SyYL2EARN9",
        "colab_type": "text"
      },
      "cell_type": "markdown",
      "source": [
        "**First the LendingClub Option**"
      ]
    },
    {
      "metadata": {
        "id": "G46LdgApAQ8d",
        "colab_type": "code",
        "colab": {}
      },
      "cell_type": "code",
      "source": [
        "df.head(10)"
      ],
      "execution_count": 0,
      "outputs": []
    },
    {
      "metadata": {
        "id": "Zddn-PjxAQ5m",
        "colab_type": "code",
        "colab": {}
      },
      "cell_type": "code",
      "source": [
        "df['revol_util'].head(10)"
      ],
      "execution_count": 0,
      "outputs": []
    },
    {
      "metadata": {
        "id": "p8w1Vi1xCh0q",
        "colab_type": "code",
        "colab": {}
      },
      "cell_type": "code",
      "source": [
        "df['revol_util'].isnull().sum()"
      ],
      "execution_count": 0,
      "outputs": []
    },
    {
      "metadata": {
        "id": "ponn-9j7AQ3V",
        "colab_type": "code",
        "colab": {}
      },
      "cell_type": "code",
      "source": [
        "df['revol_util'] = df['revol_util'].str.strip('%').astype(float).head()"
      ],
      "execution_count": 0,
      "outputs": []
    },
    {
      "metadata": {
        "id": "iXewt06TDBuF",
        "colab_type": "code",
        "colab": {}
      },
      "cell_type": "code",
      "source": [
        "df['revol_util'].describe()"
      ],
      "execution_count": 0,
      "outputs": []
    },
    {
      "metadata": {
        "id": "zgg09VLeAQ04",
        "colab_type": "code",
        "colab": {}
      },
      "cell_type": "code",
      "source": [
        "df['revol_util'].fillna(19.10)"
      ],
      "execution_count": 0,
      "outputs": []
    },
    {
      "metadata": {
        "id": "W62gH0gpAQy8",
        "colab_type": "code",
        "colab": {}
      },
      "cell_type": "code",
      "source": [
        "df['revol_util'].describe()"
      ],
      "execution_count": 0,
      "outputs": []
    },
    {
      "metadata": {
        "id": "J1VQRM2CEZQN",
        "colab_type": "code",
        "colab": {}
      },
      "cell_type": "code",
      "source": [
        "df['revol_util'].shape"
      ],
      "execution_count": 0,
      "outputs": []
    },
    {
      "metadata": {
        "id": "l7Ymu1UmEb4r",
        "colab_type": "code",
        "colab": {}
      },
      "cell_type": "code",
      "source": [
        "df['revol_util'].isnull().sum()"
      ],
      "execution_count": 0,
      "outputs": []
    },
    {
      "metadata": {
        "id": "aTcZFVzOEib-",
        "colab_type": "text"
      },
      "cell_type": "markdown",
      "source": [
        "SOOOO, the column has just 5 values..? Should I really replace with the mean?? Maybe I should replace with median"
      ]
    },
    {
      "metadata": {
        "id": "a5gd-M6PNwUi",
        "colab_type": "code",
        "colab": {}
      },
      "cell_type": "code",
      "source": [
        "df['revol_util'].head()"
      ],
      "execution_count": 0,
      "outputs": []
    },
    {
      "metadata": {
        "id": "PBzL8vgCFNar",
        "colab_type": "code",
        "colab": {}
      },
      "cell_type": "code",
      "source": [
        "df['emp_title'].value_counts()"
      ],
      "execution_count": 0,
      "outputs": []
    },
    {
      "metadata": {
        "id": "yxuyEnA4FaZY",
        "colab_type": "text"
      },
      "cell_type": "markdown",
      "source": [
        "Teacher                                     2090\n",
        "Manager                                     1773\n",
        "Registered Nurse                             952\n",
        "Driver                                       924\n",
        "RN                                           726\n",
        "Supervisor                                   697\n",
        "Sales                                        580\n",
        "Project Manager                              526\n",
        "General Manager                              523\n",
        "Office Manager                               521\n",
        "Owner                                        420\n",
        "Director                                     402\n",
        "Operations Manager                           387\n",
        "Truck Driver                                 387\n",
        "Nurse                                        326\n",
        "Engineer                                     325\n",
        "Sales Manager                                304\n",
        "manager                                      301\n",
        "Supervisor                                   270\n",
        "Administrative Assistant                     269"
      ]
    },
    {
      "metadata": {
        "id": "zGOeG0K4FbyD",
        "colab_type": "text"
      },
      "cell_type": "markdown",
      "source": [
        "Top 20 or replace with Other"
      ]
    },
    {
      "metadata": {
        "id": "zJVA1_-YAQvo",
        "colab_type": "code",
        "colab": {}
      },
      "cell_type": "code",
      "source": [
        "import numpy as np\n",
        "\n",
        "examples = ['owner', 'Supervisor',\n",
        "           ' Project Manager', np.nan]"
      ],
      "execution_count": 0,
      "outputs": []
    },
    {
      "metadata": {
        "id": "IYfl9y_nAQrq",
        "colab_type": "code",
        "colab": {}
      },
      "cell_type": "code",
      "source": [
        "def clean_title(x):\n",
        "  if isinstance(x, str):\n",
        "    return x.strip().title()\n",
        "  else:\n",
        "    return 'Unknown'\n",
        "  \n",
        "[clean_title(x) for x in examples]"
      ],
      "execution_count": 0,
      "outputs": []
    },
    {
      "metadata": {
        "id": "RB_UtiB7JOG1",
        "colab_type": "code",
        "colab": {}
      },
      "cell_type": "code",
      "source": [
        "df['emp_title'].value_counts().head(20)"
      ],
      "execution_count": 0,
      "outputs": []
    },
    {
      "metadata": {
        "id": "Ul-qWKVCNhS8",
        "colab_type": "text"
      },
      "cell_type": "markdown",
      "source": [
        "Ask during Standup"
      ]
    },
    {
      "metadata": {
        "id": "RJErRSokUFI8",
        "colab_type": "code",
        "colab": {}
      },
      "cell_type": "code",
      "source": [
        "Title = ['Teacher', 'Manager', 'Registered Nurse',\n",
        "           'Driver', 'RN', 'Supervisor', 'Sales', 'Project Managers',\n",
        "           'General Manager', 'Office Manager', 'Owner', 'Director',\n",
        "           'Operations Manager', 'Truck Driver', 'Nurse', 'Engineer',\n",
        "           'Sales Manager', 'manager', 'Supervisor', 'Administrative Assistant']\n"
      ],
      "execution_count": 0,
      "outputs": []
    },
    {
      "metadata": {
        "id": "0H4ncvU0WObZ",
        "colab_type": "code",
        "colab": {}
      },
      "cell_type": "code",
      "source": [
        "df['some'] = df.loc[~df[\"emp_title\"].isin(Title), \"emp_title\"] = \"Other\""
      ],
      "execution_count": 0,
      "outputs": []
    },
    {
      "metadata": {
        "id": "KrFGaCqPYyH0",
        "colab_type": "code",
        "colab": {
          "base_uri": "https://localhost:8080/",
          "height": 50
        },
        "outputId": "b557676a-7d97-4aca-cf40-5fac198f9dfb"
      },
      "cell_type": "code",
      "source": [
        "df['some'].value_counts().head()"
      ],
      "execution_count": 25,
      "outputs": [
        {
          "output_type": "execute_result",
          "data": {
            "text/plain": [
              "Other    128412\n",
              "Name: some, dtype: int64"
            ]
          },
          "metadata": {
            "tags": []
          },
          "execution_count": 25
        }
      ]
    },
    {
      "metadata": {
        "id": "byt1KbNGZlxu",
        "colab_type": "code",
        "colab": {}
      },
      "cell_type": "code",
      "source": [
        "df['emp_title'].head(50)"
      ],
      "execution_count": 0,
      "outputs": []
    },
    {
      "metadata": {
        "id": "2Fhb2KR0XOtH",
        "colab_type": "code",
        "colab": {}
      },
      "cell_type": "code",
      "source": [
        "df.loc[~df[\"emp_title\"].isin(Title)] = \"Other\""
      ],
      "execution_count": 0,
      "outputs": []
    },
    {
      "metadata": {
        "id": "-OtPx2vcXSgR",
        "colab_type": "code",
        "colab": {}
      },
      "cell_type": "code",
      "source": [
        ""
      ],
      "execution_count": 0,
      "outputs": []
    },
    {
      "metadata": {
        "id": "d4SFJ6meWtrI",
        "colab_type": "code",
        "colab": {}
      },
      "cell_type": "code",
      "source": [
        "df['top_20'].value_counts().head(22)"
      ],
      "execution_count": 0,
      "outputs": []
    },
    {
      "metadata": {
        "id": "GjyNxc_cUPPl",
        "colab_type": "code",
        "colab": {}
      },
      "cell_type": "code",
      "source": [
        "df.replace(!=replace)"
      ],
      "execution_count": 0,
      "outputs": []
    },
    {
      "metadata": {
        "id": "6pop2awyTxez",
        "colab_type": "code",
        "colab": {}
      },
      "cell_type": "code",
      "source": [
        "df['emp_title'].value_counts().head(20)"
      ],
      "execution_count": 0,
      "outputs": []
    },
    {
      "metadata": {
        "id": "6trHUfx8Kq8O",
        "colab_type": "code",
        "colab": {}
      },
      "cell_type": "code",
      "source": [
        "import numpy as np\n",
        "\n",
        "examples = ['Teacher', 'Manager', 'Registered Nurse',\n",
        "           'Driver', 'RN', 'Supervisor', 'Sales', 'Project Managers',\n",
        "           'General Manager', 'Office Manager', 'Owner', 'Director',\n",
        "           'Operations Manager', 'Truck Driver', 'Nurse', 'Engineer',\n",
        "           'Sales Manager', 'manager', 'Supervisor', 'Administrative Assistant']\n",
        "\n",
        "def top_twenty(x):\n",
        "  if isinstance(x, str):\n",
        "    return 'Other'\n",
        "  else:\n",
        "    return x.strip().title\n",
        "  \n",
        "[top_twenty(x) for x in examples]\n",
        "    \n",
        "    \n",
        "    \n",
        "  \n",
        "    \n",
        "    "
      ],
      "execution_count": 0,
      "outputs": []
    },
    {
      "metadata": {
        "id": "Bt5FDMilNCHA",
        "colab_type": "code",
        "colab": {}
      },
      "cell_type": "code",
      "source": [
        "top_emp = df['emp_title'].value_counts().head(22)"
      ],
      "execution_count": 0,
      "outputs": []
    },
    {
      "metadata": {
        "id": "Hnn7zPXwPHoG",
        "colab_type": "text"
      },
      "cell_type": "markdown",
      "source": [
        "I want to draw a plot to show to see if there was a higher interest rate offered to high level positions liek managers compared to low-level positions.\n"
      ]
    },
    {
      "metadata": {
        "id": "OWOMUamjjx5x",
        "colab_type": "code",
        "colab": {}
      },
      "cell_type": "code",
      "source": [
        ""
      ],
      "execution_count": 0,
      "outputs": []
    },
    {
      "metadata": {
        "id": "NjTJ8Hb_PHZA",
        "colab_type": "code",
        "colab": {
          "base_uri": "https://localhost:8080/",
          "height": 298
        },
        "outputId": "8c95aca1-6a85-447c-de76-f4b7fa1e2873"
      },
      "cell_type": "code",
      "source": [
        "\n",
        "top_emp.plot.barh(title='bar chart')\n",
        "\n"
      ],
      "execution_count": 44,
      "outputs": [
        {
          "output_type": "execute_result",
          "data": {
            "text/plain": [
              "<matplotlib.axes._subplots.AxesSubplot at 0x7fcea1a65ba8>"
            ]
          },
          "metadata": {
            "tags": []
          },
          "execution_count": 44
        },
        {
          "output_type": "display_data",
          "data": {
            "image/png": "[encoded data removed]",
            "text/plain": [
              "<Figure size 432x288 with 1 Axes>"
            ]
          },
          "metadata": {
            "tags": []
          }
        }
      ]
    },
    {
      "metadata": {
        "id": "1Ay3m7tIPVYo",
        "colab_type": "code",
        "colab": {}
      },
      "cell_type": "code",
      "source": [
        ""
      ],
      "execution_count": 0,
      "outputs": []
    },
    {
      "metadata": {
        "id": "w3iN_FeEPHVG",
        "colab_type": "code",
        "colab": {}
      },
      "cell_type": "code",
      "source": [
        ""
      ],
      "execution_count": 0,
      "outputs": []
    },
    {
      "metadata": {
        "id": "_8MOSnUJPHSI",
        "colab_type": "code",
        "colab": {}
      },
      "cell_type": "code",
      "source": [
        ""
      ],
      "execution_count": 0,
      "outputs": []
    },
    {
      "metadata": {
        "id": "RrcWKzzDnoBL",
        "colab_type": "code",
        "colab": {}
      },
      "cell_type": "code",
      "source": [
        "!wget https://s3.amazonaws.com/instacart-datasets/instacart_online_grocery_shopping_2017_05_01.tar.gz"
      ],
      "execution_count": 0,
      "outputs": []
    },
    {
      "metadata": {
        "id": "4jzhk0IonoBO",
        "colab_type": "code",
        "colab": {}
      },
      "cell_type": "code",
      "source": [
        "!tar --gunzip --extract --verbose --file=instacart_online_grocery_shopping_2017_05_01.tar.gz"
      ],
      "execution_count": 0,
      "outputs": []
    },
    {
      "metadata": {
        "id": "t4Zj_jQOnoBS",
        "colab_type": "code",
        "colab": {}
      },
      "cell_type": "code",
      "source": [
        "%cd instacart_2017_05_01"
      ],
      "execution_count": 0,
      "outputs": []
    },
    {
      "metadata": {
        "id": "vvG0YCINcoJT",
        "colab_type": "code",
        "colab": {}
      },
      "cell_type": "code",
      "source": [
        "df['term'].value_counts(dropna=False)"
      ],
      "execution_count": 0,
      "outputs": []
    },
    {
      "metadata": {
        "id": "nhtzXKUZcsfW",
        "colab_type": "code",
        "colab": {}
      },
      "cell_type": "code",
      "source": [
        "df['loan_status'].value_counts(dropna=False)"
      ],
      "execution_count": 0,
      "outputs": []
    },
    {
      "metadata": {
        "id": "qkOct8Irc0Cw",
        "colab_type": "code",
        "colab": {}
      },
      "cell_type": "code",
      "source": [
        "then use the last paymentd month and last payment d year "
      ],
      "execution_count": 0,
      "outputs": []
    }
  ]
}